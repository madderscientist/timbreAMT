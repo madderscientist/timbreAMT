{
 "cells": [
  {
   "cell_type": "code",
   "execution_count": 2,
   "metadata": {},
   "outputs": [],
   "source": [
    "import torch\n",
    "import denseconv"
   ]
  },
  {
   "cell_type": "markdown",
   "metadata": {},
   "source": [
    "## padding的顺序\n",
    "[←, →, ↑, ↓]"
   ]
  },
  {
   "cell_type": "code",
   "execution_count": 2,
   "metadata": {},
   "outputs": [
    {
     "data": {
      "text/plain": [
       "tensor([[ 0,  0,  0,  0,  0,  0,  0,  0],\n",
       "        [ 0,  0,  0,  0,  0,  0,  0,  0],\n",
       "        [ 0,  0,  0,  0,  0,  0,  0,  0],\n",
       "        [ 0,  1,  2,  3,  4,  5,  0,  0],\n",
       "        [ 0,  6,  7,  8,  9, 10,  0,  0],\n",
       "        [ 0, 11, 12, 13, 14, 15,  0,  0],\n",
       "        [ 0, 16, 17, 18, 19, 20,  0,  0],\n",
       "        [ 0, 21, 22, 23, 24, 25,  0,  0],\n",
       "        [ 0,  0,  0,  0,  0,  0,  0,  0],\n",
       "        [ 0,  0,  0,  0,  0,  0,  0,  0],\n",
       "        [ 0,  0,  0,  0,  0,  0,  0,  0],\n",
       "        [ 0,  0,  0,  0,  0,  0,  0,  0]])"
      ]
     },
     "execution_count": 2,
     "metadata": {},
     "output_type": "execute_result"
    }
   ],
   "source": [
    "temp = torch.tensor([\n",
    "    [1,2,3,4,5],\n",
    "    [6,7,8,9,10],\n",
    "    [11,12,13,14,15],\n",
    "    [16,17,18,19,20],\n",
    "    [21,22,23,24,25]\n",
    "])\n",
    "torch.nn.ZeroPad2d((1,2,3,4))(temp)"
   ]
  },
  {
   "cell_type": "code",
   "execution_count": 3,
   "metadata": {},
   "outputs": [
    {
     "name": "stdout",
     "output_type": "stream",
     "text": [
      "torch.Size([1, 3, 3, 3])\n",
      "tensor([[[[1., 0., 0., 0., 0., 0.],\n",
      "          [0., 0., 0., 0., 0., 0.],\n",
      "          [0., 0., 0., 0., 0., 0.],\n",
      "          [0., 0., 0., 0., 0., 0.],\n",
      "          [0., 0., 0., 0., 1., 0.],\n",
      "          [0., 0., 0., 0., 0., 0.]],\n",
      "\n",
      "         [[0., 0., 0., 0., 0., 0.],\n",
      "          [0., 1., 0., 0., 0., 0.],\n",
      "          [0., 0., 0., 0., 0., 0.],\n",
      "          [0., 0., 0., 0., 0., 0.],\n",
      "          [0., 0., 0., 0., 1., 0.],\n",
      "          [0., 0., 0., 0., 0., 0.]],\n",
      "\n",
      "         [[1., 0., 0., 0., 0., 0.],\n",
      "          [0., 0., 0., 0., 0., 0.],\n",
      "          [0., 0., 0., 0., 0., 0.],\n",
      "          [0., 0., 0., 0., 0., 0.],\n",
      "          [0., 0., 0., 0., 1., 0.],\n",
      "          [0., 0., 0., 0., 0., 0.]]]])\n"
     ]
    }
   ],
   "source": [
    "response = torch.tensor([[\n",
    "    [\n",
    "        [1, 2, 3],\n",
    "        [4, 5, 6],\n",
    "        [7, 8, 9]\n",
    "    ], [\n",
    "        [10, 11, 12],\n",
    "        [13, 14, 15],\n",
    "        [16, 17, 18]\n",
    "    ], [\n",
    "        [19, 20, 21],\n",
    "        [22, 23, 24],\n",
    "        [25, 26, 27]\n",
    "    ]\n",
    "]], dtype=torch.float32)\n",
    "print(response.shape)\n",
    "impulse = torch.zeros(1, 3, 6, 6, dtype=torch.float32)\n",
    "impulse[0, :, 0, 0] = 1\n",
    "impulse[0, :, 4, 4] = 1\n",
    "impulse[0, 1, 0, 0] = 0\n",
    "impulse[0, 1, 1, 1] = 1\n",
    "print(impulse)"
   ]
  },
  {
   "cell_type": "code",
   "execution_count": 4,
   "metadata": {},
   "outputs": [
    {
     "data": {
      "text/plain": [
       "tensor([[[[ 1.,  2.,  3.,  0.,  0.,  0.],\n",
       "          [ 4.,  5.,  6.,  0.,  0.,  0.],\n",
       "          [ 7.,  8.,  9.,  0.,  0.,  0.],\n",
       "          [ 0.,  0.,  0.,  0.,  0.,  0.],\n",
       "          [ 0.,  0.,  0.,  0.,  1.,  2.],\n",
       "          [ 0.,  0.,  0.,  0.,  4.,  5.]],\n",
       "\n",
       "         [[ 0.,  0.,  0.,  0.,  0.,  0.],\n",
       "          [ 0., 10., 11., 12.,  0.,  0.],\n",
       "          [ 0., 13., 14., 15.,  0.,  0.],\n",
       "          [ 0., 16., 17., 18.,  0.,  0.],\n",
       "          [ 0.,  0.,  0.,  0., 10., 11.],\n",
       "          [ 0.,  0.,  0.,  0., 13., 14.]],\n",
       "\n",
       "         [[19., 20., 21.,  0.,  0.,  0.],\n",
       "          [22., 23., 24.,  0.,  0.,  0.],\n",
       "          [25., 26., 27.,  0.,  0.,  0.],\n",
       "          [ 0.,  0.,  0.,  0.,  0.,  0.],\n",
       "          [ 0.,  0.,  0.,  0., 19., 20.],\n",
       "          [ 0.,  0.,  0.,  0., 22., 23.]]]])"
      ]
     },
     "execution_count": 4,
     "metadata": {},
     "output_type": "execute_result"
    }
   ],
   "source": [
    "out = denseconv.sparseConv2d(response, impulse)\n",
    "out"
   ]
  },
  {
   "cell_type": "code",
   "execution_count": 5,
   "metadata": {},
   "outputs": [
    {
     "data": {
      "text/plain": [
       "tensor([[[[ 285.,  186.,   90.,    0.,    0.,    0.],\n",
       "          [ 154.,   94.,   42.,    0.,    0.,    0.],\n",
       "          [  50.,   26.,   18.,   26.,   41.,   48.],\n",
       "          [   0.,    0.,   42.,   94.,  139.,  150.],\n",
       "          [   0.,    0.,   63.,  135.,  195.,  207.],\n",
       "          [   0.,    0.,   72.,  150.,  213.,  225.]],\n",
       "\n",
       "         [[ 778., 1180.,  790.,  396.,    0.,    0.],\n",
       "          [1212., 1824., 1212.,  603.,    0.,    0.],\n",
       "          [ 790., 1180.,  958.,  752.,  545.,  561.],\n",
       "          [ 380.,  563.,  752.,  958., 1147., 1176.],\n",
       "          [   0.,    0.,  549., 1107., 1626., 1665.],\n",
       "          [   0.,    0.,  585., 1176., 1725., 1764.]],\n",
       "\n",
       "         [[4821., 3210., 1602.,    0.,    0.,    0.],\n",
       "          [3178., 2110., 1050.,    0.,    0.,    0.],\n",
       "          [1562., 1034., 1026., 1034., 1535., 1560.],\n",
       "          [   0.,    0., 1050., 2110., 3127., 3174.],\n",
       "          [   0.,    0., 1521., 3051., 4515., 4581.],\n",
       "          [   0.,    0., 1584., 3174., 4695., 4761.]]]])"
      ]
     },
     "execution_count": 5,
     "metadata": {},
     "output_type": "execute_result"
    }
   ],
   "source": [
    "corr = denseconv.sparseCorr2d(response, out)\n",
    "corr"
   ]
  },
  {
   "cell_type": "code",
   "execution_count": 6,
   "metadata": {},
   "outputs": [
    {
     "name": "stdout",
     "output_type": "stream",
     "text": [
      "204\n"
     ]
    }
   ],
   "source": [
    "sum = 0\n",
    "for i in range(1,9):\n",
    "    sum += i * i\n",
    "print(sum)"
   ]
  },
  {
   "cell_type": "code",
   "execution_count": 8,
   "metadata": {},
   "outputs": [],
   "source": [
    "import time"
   ]
  },
  {
   "cell_type": "markdown",
   "metadata": {},
   "source": [
    "## 卷积与反卷积\n",
    "反卷积其实是信号中的卷积，padding视为做完卷积后边缘裁掉多少"
   ]
  },
  {
   "cell_type": "code",
   "execution_count": 28,
   "metadata": {},
   "outputs": [
    {
     "name": "stdout",
     "output_type": "stream",
     "text": [
      "0.001018524169921875\n",
      "tensor([[[[ 1.,  2.,  4.,  2.],\n",
      "          [ 4.,  5., 10.,  5.],\n",
      "          [ 7.,  8., 16.,  8.],\n",
      "          [10., 11., 22., 11.],\n",
      "          [13., 14., 28., 14.],\n",
      "          [ 0.,  0.,  0.,  0.]]]])\n",
      "0.0005118846893310547\n",
      "tensor([[[[ 1.,  2.,  4.,  2.],\n",
      "          [ 4.,  5., 10.,  5.],\n",
      "          [ 7.,  8., 16.,  8.],\n",
      "          [10., 11., 22., 11.],\n",
      "          [13., 14., 28., 14.],\n",
      "          [ 0.,  0.,  0.,  0.]]]])\n"
     ]
    }
   ],
   "source": [
    "aa = torch.tensor([[\n",
    "    [1, 2, 3],\n",
    "    [4, 5, 6],\n",
    "    [7, 8, 9],\n",
    "    [10, 11, 12],\n",
    "    [13, 14, 15]\n",
    "]], dtype=torch.float32).view(1,1,5,3)\n",
    "bb = torch.tensor([[\n",
    "    [1, 0, 1, 0],\n",
    "    [0, 0, 0, 0],\n",
    "    [0, 0, 0, 0],\n",
    "    [0, 0, 0, 0],\n",
    "    [0, 0, 0, 0],\n",
    "    [0, 0, 0, 0]\n",
    "]], dtype=torch.float32).view(1,1,6,4)\n",
    "\n",
    "start_time = time.time()\n",
    "conv_result = torch.nn.functional.conv2d(torch.nn.ZeroPad2d((2,0,4,0))(bb), torch.flip(aa, [-1,-2]))\n",
    "end_time = time.time()\n",
    "print(end_time - start_time)\n",
    "print(conv_result)\n",
    "\n",
    "start_time = time.time()\n",
    "deconv_result = torch.nn.functional.conv_transpose2d(torch.nn.ZeroPad2d((2,0,4,0))(bb), aa, padding=(4,2))\n",
    "end_time = time.time()\n",
    "print(end_time - start_time)\n",
    "print(deconv_result)"
   ]
  },
  {
   "cell_type": "code",
   "execution_count": 29,
   "metadata": {},
   "outputs": [
    {
     "name": "stdout",
     "output_type": "stream",
     "text": [
      "torch.Size([1, 1, 8, 6])\n",
      "tensor([[[[ 4.,  5., 10.,  5.,  6.,  0.],\n",
      "          [ 7.,  8., 16.,  8.,  9.,  0.],\n",
      "          [10., 11., 22., 11., 12.,  0.],\n",
      "          [13., 14., 28., 14., 15.,  0.],\n",
      "          [ 0.,  0.,  0.,  0.,  0.,  0.],\n",
      "          [ 0.,  0.,  0.,  0.,  0.,  0.],\n",
      "          [ 0.,  0.,  0.,  0.,  0.,  0.],\n",
      "          [ 0.,  0.,  0.,  0.,  0.,  0.]]]])\n"
     ]
    }
   ],
   "source": [
    "temp = torch.nn.functional.conv_transpose2d(\n",
    "    bb, aa,\n",
    "    padding=(1,0)\n",
    ")\n",
    "print(temp.shape)\n",
    "print(temp)"
   ]
  },
  {
   "cell_type": "code",
   "execution_count": 33,
   "metadata": {},
   "outputs": [
    {
     "data": {
      "text/plain": [
       "tensor([[[[ 4.,  5., 10.,  5.],\n",
       "          [ 7.,  8., 16.,  8.],\n",
       "          [10., 11., 22., 11.]],\n",
       "\n",
       "         [[13., 14., 28., 14.],\n",
       "          [ 0.,  0.,  0.,  0.],\n",
       "          [ 0.,  0.,  0.,  0.]]]])"
      ]
     },
     "execution_count": 33,
     "metadata": {},
     "output_type": "execute_result"
    }
   ],
   "source": [
    "t = temp[:, :, 0:6, 0:4].view(1, 2, 3, 4)\n",
    "t"
   ]
  },
  {
   "cell_type": "code",
   "execution_count": 26,
   "metadata": {},
   "outputs": [],
   "source": [
    "t[0,0,0,0] = 3"
   ]
  },
  {
   "cell_type": "code",
   "execution_count": 27,
   "metadata": {},
   "outputs": [
    {
     "data": {
      "text/plain": [
       "tensor([[[[ 3.,  2.,  3.,  1.,  2.,  3.],\n",
       "          [ 4.,  5.,  6.,  4.,  5.,  6.],\n",
       "          [ 7.,  8.,  9.,  7.,  8.,  9.],\n",
       "          [10., 11., 12., 10., 11., 12.],\n",
       "          [13., 14., 15., 13., 14., 15.],\n",
       "          [ 0.,  0.,  0.,  0.,  0.,  0.],\n",
       "          [ 0.,  0.,  0.,  0.,  0.,  0.],\n",
       "          [ 0.,  0.,  0.,  0.,  0.,  0.],\n",
       "          [ 0.,  0.,  0.,  0.,  0.,  0.],\n",
       "          [ 0.,  0.,  0.,  0.,  0.,  0.]]]])"
      ]
     },
     "execution_count": 27,
     "metadata": {},
     "output_type": "execute_result"
    }
   ],
   "source": [
    "temp"
   ]
  }
 ],
 "metadata": {
  "kernelspec": {
   "display_name": "amt",
   "language": "python",
   "name": "python3"
  },
  "language_info": {
   "codemirror_mode": {
    "name": "ipython",
    "version": 3
   },
   "file_extension": ".py",
   "mimetype": "text/x-python",
   "name": "python",
   "nbconvert_exporter": "python",
   "pygments_lexer": "ipython3",
   "version": "3.12.8"
  }
 },
 "nbformat": 4,
 "nbformat_minor": 2
}
