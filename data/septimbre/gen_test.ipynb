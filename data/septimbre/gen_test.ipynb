{
 "cells": [
  {
   "cell_type": "markdown",
   "metadata": {},
   "source": [
    "# 用于确定生成音符的参数"
   ]
  },
  {
   "cell_type": "code",
   "execution_count": null,
   "metadata": {},
   "outputs": [],
   "source": [
    "import numpy as np\n",
    "import matplotlib.pyplot as plt\n",
    "from gen import Notes\n",
    "notes = Notes()\n",
    "print(notes.current_bpm(17.4))"
   ]
  },
  {
   "cell_type": "code",
   "execution_count": null,
   "metadata": {},
   "outputs": [],
   "source": [
    "# 本格用于调试generate函数的参数 调试完会加入Notes类\n",
    "def generate(frames = 660, polyphonic = 0.16, near = 0.65):\n",
    "    ft = np.zeros((7 * 12, frames))\n",
    "    polyphonic_time = []\n",
    "    current_time = 0\n",
    "    last = None\n",
    "\n",
    "    def a_note(last_note, sepcifyOffset = None):\n",
    "        nonlocal current_time\n",
    "        now = notes.fetch(\n",
    "            last_note,\n",
    "            near_future_len = 9 if np.random.uniform(0, 1) < near else 0\n",
    "        )\n",
    "        note, offset, length = now\n",
    "        if sepcifyOffset != None:\n",
    "            offset = sepcifyOffset\n",
    "        note_row = ft[note]\n",
    "\n",
    "        # 找到可以开始填充音符的位置\n",
    "        current_time += offset\n",
    "        if current_time >= frames:\n",
    "            notes.putback(note)\n",
    "            return False, None\n",
    "        while current_time < frames and note_row[current_time] != 0:\n",
    "            current_time += 1\n",
    "        \n",
    "        if current_time + length > frames:\n",
    "            length = frames - current_time\n",
    "            if length < notes.len_mean / 3:\n",
    "                notes.putback(note)\n",
    "                return False, None\n",
    "\n",
    "        # 决定是否有同时演奏的音\n",
    "        if np.random.uniform(0, 1) < polyphonic:\n",
    "            polyphonic_time.append(current_time)\n",
    "\n",
    "        note_row[current_time] = 2\n",
    "        note_row[current_time + 1 : min(frames, current_time + length)] = 1\n",
    "        current_time += length\n",
    "        return True, now\n",
    "\n",
    "    while current_time < frames:\n",
    "        next, last = a_note(last)\n",
    "        if not next:\n",
    "            break\n",
    "    \n",
    "    # 处理polyphonic_time\n",
    "    i = 0\n",
    "    while i < len(polyphonic_time):\n",
    "        current_time = polyphonic_time[i]\n",
    "        if np.random.uniform(0, 1) < polyphonic:\n",
    "            polyphonic_time.append(current_time)\n",
    "        a_note(None, 0)\n",
    "        i += 1\n",
    "        \n",
    "    return ft"
   ]
  },
  {
   "cell_type": "code",
   "execution_count": null,
   "metadata": {},
   "outputs": [],
   "source": [
    "# Create a figure with 2 rows and 2 columns\n",
    "fig, axs = plt.subplots(2, 2, figsize=(15, 10))\n",
    "\n",
    "# Plot the data in each subplot\n",
    "for i in range(2):\n",
    "    for j in range(2):\n",
    "        ax = axs[i, j]\n",
    "        data = notes.generate(660, 0.16, 0.7)\n",
    "        ax.imshow(data, aspect='auto', cmap='viridis')\n",
    "        note_num = np.sum(data == 2)\n",
    "        ax.set_title(f'{note_num} notes')\n",
    "        ax.set_xlabel('Time')\n",
    "        ax.set_ylabel('Note')\n",
    "\n",
    "# Adjust layout\n",
    "plt.tight_layout()\n",
    "plt.show()"
   ]
  },
  {
   "cell_type": "markdown",
   "metadata": {},
   "source": [
    "## 合成一个音频\n",
    "生成numpy数组、导出为midi、合成为wav"
   ]
  },
  {
   "cell_type": "code",
   "execution_count": null,
   "metadata": {},
   "outputs": [],
   "source": [
    "import sys\n",
    "sys.path.append('..')\n",
    "from fluidsynth import Synth\n",
    "s = Synth(22050, gain = 0.8)\n",
    "\n",
    "sys.path.append('../..')\n",
    "from utils.midiarray import numpy2midi"
   ]
  },
  {
   "cell_type": "code",
   "execution_count": null,
   "metadata": {},
   "outputs": [],
   "source": [
    "example = notes.generate(660, 0.16, 0.7)\n",
    "np.save('example.npy', example)\n",
    "numpy2midi(example, 384/22050, time_first=False, random=True, instrument=40).save('example.mid')\n",
    "s.midi2audio(\"example.mid\", \"example.wav\")\n",
    "plt.figure(figsize=(10, 6))\n",
    "plt.imshow(np.flipud(example), aspect='auto', cmap='viridis')\n",
    "plt.title('Example Notes')\n",
    "plt.xlabel('Time')\n",
    "plt.ylabel('Note')\n",
    "plt.show()"
   ]
  }
 ],
 "metadata": {
  "kernelspec": {
   "display_name": "amt",
   "language": "python",
   "name": "python3"
  },
  "language_info": {
   "codemirror_mode": {
    "name": "ipython",
    "version": 3
   },
   "file_extension": ".py",
   "mimetype": "text/x-python",
   "name": "python",
   "nbconvert_exporter": "python",
   "pygments_lexer": "ipython3",
   "version": "3.12.8"
  }
 },
 "nbformat": 4,
 "nbformat_minor": 2
}
