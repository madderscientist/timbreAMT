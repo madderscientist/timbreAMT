{
 "cells": [
  {
   "cell_type": "markdown",
   "metadata": {},
   "source": [
    "# 处理PHENICX数据集\n",
    "\n",
    "https://www.upf.edu/web/mtg/phenicx-anechoic\n",
    "\n",
    "它说应该看txt标注，所以下面的代码是txt到midi"
   ]
  },
  {
   "cell_type": "code",
   "execution_count": null,
   "metadata": {},
   "outputs": [
    {
     "name": "stdout",
     "output_type": "stream",
     "text": [
      "['beethoven', 'bruckner', 'mahler', 'mozart']\n"
     ]
    }
   ],
   "source": [
    "import os\n",
    "import subprocess\n",
    "import sys\n",
    "sys.path.append('..')\n",
    "from utils.midiarray import annotation2midi, midi_merge, midi2numpy\n",
    "import numpy as np\n",
    "\n",
    "dataset_folder = r\"..\\data\\PHENICX-Anechoic\"\n",
    "output_folder = r\".\\PHENICX_processed\"\n",
    "\n",
    "if not os.path.exists(output_folder):\n",
    "    os.makedirs(output_folder)\n",
    "\n",
    "annotations_folder = os.path.join(dataset_folder, \"annotations\")\n",
    "audio_folder = os.path.join(dataset_folder, \"audio\")\n",
    "\n",
    "pieces = os.listdir(audio_folder)\n",
    "print(pieces)\n",
    "\n",
    "instrument_mapping = {\n",
    "    \"bassoon\": 70,\n",
    "    \"cello\": 42,\n",
    "    \"clarinet\": 71,\n",
    "    \"doublebass\": 43,\n",
    "    \"flute\": 73,\n",
    "    \"horn\": 60,\n",
    "    \"oboe\": 68,\n",
    "    \"trumpet\": 56,\n",
    "    \"viola\": 41,\n",
    "    \"violin\": 40\n",
    "}\n",
    "\n",
    "# 目标音频\n",
    "fs = 22050\n",
    "hop = 256\n",
    "time_step = hop / fs"
   ]
  },
  {
   "cell_type": "code",
   "execution_count": null,
   "metadata": {},
   "outputs": [],
   "source": [
    "def mix_audios(output_path, fs, *input_paths):\n",
    "    input_files = []\n",
    "    for input_path in input_paths:\n",
    "        input_files.extend(['-i', input_path])\n",
    "    \n",
    "    filter_complex = f\"amix=inputs={len(input_paths)}:duration=longest\"\n",
    "    \n",
    "    command = ['ffmpeg', *input_files, '-filter_complex', filter_complex, '-ar', str(fs), output_path]\n",
    "    \n",
    "    try:\n",
    "        subprocess.run(command, check=True)\n",
    "    except subprocess.CalledProcessError as e:\n",
    "        print(f\"Error occurred while mixing audios: {e}\")\n",
    "        exit()"
   ]
  },
  {
   "cell_type": "code",
   "execution_count": null,
   "metadata": {},
   "outputs": [],
   "source": [
    "for piece in pieces:\n",
    "    audio_path = os.path.join(audio_folder, piece)\n",
    "    annotation_path = os.path.join(annotations_folder, piece)\n",
    "\n",
    "    output_path = os.path.join(output_folder, piece)\n",
    "    if not os.path.exists(output_path):\n",
    "        os.makedirs(output_path)\n",
    "\n",
    "    # 音频合并\n",
    "    all_audios = [os.path.join(audio_path, wav_name) for wav_name in os.listdir(audio_path)]\n",
    "    mix_audios(os.path.join(output_path, f\"{piece}.wav\"), fs, *all_audios)\n",
    "\n",
    "    # midi制作\n",
    "    midis = []\n",
    "    txt_files = [f for f in os.listdir(annotation_path) if f.endswith('.txt') and not f.endswith('_o.txt')]\n",
    "    for txt_file in txt_files:\n",
    "        txt_path = os.path.join(annotation_path, txt_file)\n",
    "        m = annotation2midi(txt_path, [\"onset\", \"offset\", \"name\"], sep = \",\", instrument=instrument_mapping[txt_file[:-4]])\n",
    "        midis.append(m)\n",
    "    midi_path = os.path.join(output_path, f\"{piece}.mid\")\n",
    "    midi_all = midi_merge(midis)\n",
    "    midi_all.save(midi_path)\n",
    "    np.save(os.path.join(output_path, f\"{piece}.npy\"), midi2numpy(midi_all, time_step))\n"
   ]
  }
 ],
 "metadata": {
  "kernelspec": {
   "display_name": "amt",
   "language": "python",
   "name": "python3"
  },
  "language_info": {
   "codemirror_mode": {
    "name": "ipython",
    "version": 3
   },
   "file_extension": ".py",
   "mimetype": "text/x-python",
   "name": "python",
   "nbconvert_exporter": "python",
   "pygments_lexer": "ipython3",
   "version": "3.12.7"
  }
 },
 "nbformat": 4,
 "nbformat_minor": 2
}
