{
 "cells": [
  {
   "cell_type": "markdown",
   "metadata": {},
   "source": [
    "因为basicamt用的是两轮训练，第二轮没有预计算CQT（因为CQT层加入了训练）；而basicpitch论文中直接用了CQT结果（且CQT不是训练参数），所以应该用basicamt的第二轮训练的数据，这个文件计算了CQT"
   ]
  },
  {
   "cell_type": "code",
   "execution_count": null,
   "metadata": {},
   "outputs": [],
   "source": [
    "import torch\n",
    "import torchaudio\n",
    "import numpy as np\n",
    "\n",
    "import sys\n",
    "sys.path.append(\"..\")\n",
    "\n",
    "device = torch.device('cpu')\n",
    "print(device)"
   ]
  },
  {
   "cell_type": "code",
   "execution_count": null,
   "metadata": {},
   "outputs": [],
   "source": [
    "# CQT配置\n",
    "import tomllib\n",
    "with open('../model/config.toml', 'br') as f:\n",
    "    CQTconfig = tomllib.load(f)['CQT']\n",
    "s_per_frame = CQTconfig['hop'] / CQTconfig['fs']\n",
    "\n",
    "from model.CQT import CQTsmall\n",
    "from model.layers import EnergyNorm\n",
    "\n",
    "cqt = CQTsmall(\n",
    "    CQTconfig['fs'],\n",
    "    fmin=CQTconfig['fmin'],\n",
    "    octaves=CQTconfig['octaves'],\n",
    "    bins_per_octave=CQTconfig['bins_per_octave'],\n",
    "    hop=CQTconfig['hop'],\n",
    "    filter_scale=CQTconfig['filter_scale'],\n",
    "    requires_grad=False\n",
    ").to(device)\n",
    "\n",
    "norm = EnergyNorm(output_type=0)\n"
   ]
  },
  {
   "cell_type": "code",
   "execution_count": null,
   "metadata": {},
   "outputs": [],
   "source": [
    "import os\n",
    "data_folder = \"../data/septimbre/multi_large_256\"\n",
    "\n",
    "for sub_dir in os.listdir(data_folder):\n",
    "    sub_dir = os.path.join(data_folder, sub_dir)\n",
    "    if not os.path.isdir(sub_dir):\n",
    "        continue\n",
    "    for file_name in os.listdir(sub_dir):\n",
    "        if file_name.endswith(\".wav\"):\n",
    "            midi_id = os.path.splitext(file_name)[0]\n",
    "            wav_name = os.path.join(sub_dir, file_name)\n",
    "            # 获取npy\n",
    "            npy_name = os.path.join(sub_dir, file_name.replace(\".wav\", \".npy\"))\n",
    "            midiarray = np.load(npy_name)\n",
    "            frames = midiarray.shape[1]\n",
    "            # 计算CQT\n",
    "            cqt_name = os.path.join(sub_dir, file_name.replace(\".wav\", \".cqt.npy\"))\n",
    "            waveform, sample_rate = torchaudio.load(wav_name, normalize=True)\n",
    "            waveform = waveform.unsqueeze(0)    # 增加batch维\n",
    "            cqt_data = norm(cqt(waveform)).squeeze(0).numpy() # 去掉batch维 [2, 288, time]\n",
    "            np.save(cqt_name, cqt_data[:, :, :frames])  # 截取前frames帧\n"
   ]
  },
  {
   "cell_type": "code",
   "execution_count": null,
   "metadata": {},
   "outputs": [],
   "source": [
    "# 可视化\n",
    "import matplotlib.pyplot as plt\n",
    "cqt_data = np.load(\"../data/septimbre/multi_large_256/inst0/0.cqt.npy\")\n",
    "np_data = np.load(\"../data/septimbre/multi_large_256/inst0/0.npy\")\n",
    "\n",
    "cqt_data = np.sqrt(cqt_data[0]**2 + cqt_data[1]**2)\n",
    "\n",
    "# 绘图\n",
    "plt.figure(figsize=(14, 15))\n",
    "\n",
    "plt.subplot(2, 1, 1)\n",
    "plt.imshow(np_data, aspect='auto', origin='lower', cmap='gray')\n",
    "plt.title('Random Piano Roll Data')\n",
    "plt.xlabel('Time Frame')\n",
    "plt.ylabel('MIDI Note')\n",
    "plt.gcf().set_size_inches(14, 12)  # 设置图像大小\n",
    "\n",
    "plt.subplot(2, 1, 2)\n",
    "plt.imshow(cqt_data, aspect='auto', origin='lower', cmap='hot')\n",
    "plt.title('Random CQT Data')\n",
    "plt.xlabel('Time Frame')\n",
    "plt.ylabel('Frequency Bin')\n",
    "plt.gcf().set_size_inches(14, 13)  # 设置图像大小\n",
    "plt.colorbar()\n",
    "\n",
    "plt.tight_layout()\n",
    "plt.show()\n",
    "\n",
    "print(cqt_data.shape, np_data.shape)"
   ]
  }
 ],
 "metadata": {
  "kernelspec": {
   "display_name": "amt",
   "language": "python",
   "name": "python3"
  },
  "language_info": {
   "codemirror_mode": {
    "name": "ipython",
    "version": 3
   },
   "file_extension": ".py",
   "mimetype": "text/x-python",
   "name": "python",
   "nbconvert_exporter": "python",
   "pygments_lexer": "ipython3",
   "version": "3.12.7"
  }
 },
 "nbformat": 4,
 "nbformat_minor": 2
}
