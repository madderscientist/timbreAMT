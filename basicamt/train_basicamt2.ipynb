{
 "cells": [
  {
   "cell_type": "code",
   "execution_count": null,
   "metadata": {},
   "outputs": [],
   "source": [
    "import torch\n",
    "import os\n",
    "import tqdm\n",
    "\n",
    "import sys\n",
    "sys.path.append(\"..\")\n",
    "from utils.checkpoint import save_ckpt_template as save_ckpt, load_ckpt_template as load_ckpt\n",
    "\n",
    "if torch.cuda.is_available():\n",
    "    device = torch.device('cuda')\n",
    "    torch.backends.cudnn.benchmark = True   # 加速卷积计算\n",
    "else:\n",
    "    device = torch.device('cpu')\n",
    "\n",
    "print(device)"
   ]
  },
  {
   "cell_type": "code",
   "execution_count": null,
   "metadata": {},
   "outputs": [],
   "source": [
    "from data.septimbre import Instruments\n",
    "dataset = Instruments(\n",
    "    folder = '../data/multi_large_256',\n",
    "    mix = 1,\n",
    "    input = '.wav',\n",
    "    output = '.npy'\n",
    ")\n",
    "dataloader = torch.utils.data.DataLoader(dataset, batch_size=18, shuffle=True, pin_memory=True, num_workers=4)\n",
    "print(\"训练集大小: \", len(dataset))\n",
    "input, label = dataset[0]\n",
    "print(\"输入大小: \", input.shape)\n",
    "print(\"输出大小: \", label.shape)\n",
    "\n",
    "val = Instruments(\n",
    "    folder = '../data/multi_medium_256',\n",
    "    mix = 1,\n",
    "    input = '.wav',\n",
    "    output = '.npy'\n",
    ")\n",
    "valloader = torch.utils.data.DataLoader(val, batch_size=18, shuffle=False, pin_memory=True, num_workers=4)\n",
    "print(\"测试集大小: \", len(val))\n",
    "input, label = val[0]\n",
    "print(\"输入大小: \", input.shape)\n",
    "print(\"输出大小: \", label.shape)\n",
    "\n",
    "# CQT配置\n",
    "import tomllib\n",
    "with open('../model/config.toml', 'br') as f:\n",
    "    CQTconfig = tomllib.load(f)['CQT']\n",
    "s_per_frame = CQTconfig['hop'] / CQTconfig['fs']\n",
    "\n",
    "_model = None"
   ]
  },
  {
   "cell_type": "code",
   "execution_count": null,
   "metadata": {},
   "outputs": [
    {
     "name": "stdout",
     "output_type": "stream",
     "text": [
      "Checkpoint loaded from 'best_basicamt.pth'\n",
      "epoch: 46, loss: 799.6741782531737, min_loss: 819.2056848602294\n"
     ]
    }
   ],
   "source": [
    "# 从分体开始\n",
    "from basicamt import BasicAMT, BasicAMT_all\n",
    "_model = BasicAMT().to(device)\n",
    "optimizer = torch.optim.AdamW(_model.parameters(), lr=2e-4)\n",
    "checkpoint_path = \"basicamt.pth\"\n",
    "\n",
    "# 加载最佳模型\n",
    "states = load_ckpt(_model, optimizer, \"best_\" + checkpoint_path)\n",
    "if not states:\n",
    "    print(\"No best checkpoint loaded.\")"
   ]
  },
  {
   "cell_type": "code",
   "execution_count": null,
   "metadata": {},
   "outputs": [],
   "source": [
    "from basicamt import BasicAMT, BasicAMT_all\n",
    "if _model is not None:\n",
    "    model = BasicAMT_all(CQTconfig, _model.state_dict()).to(device)\n",
    "    print(\"model initialized from BasicAMT\")\n",
    "else:\n",
    "    model = BasicAMT_all(CQTconfig).to(device)\n",
    "optimizer = torch.optim.AdamW(model.parameters(), lr=2e-4)\n",
    "schedular = torch.optim.lr_scheduler.ReduceLROnPlateau(optimizer, mode='min', factor=0.3, patience=2, threshold=1e-3)\n",
    "checkpoint_path = \"basicamt_all.pth\"\n",
    "loss_path = \"basicamt_all.loss.txt\"\n",
    "min_loss = float('inf')\n",
    "epoch_now = 0"
   ]
  },
  {
   "cell_type": "code",
   "execution_count": null,
   "metadata": {},
   "outputs": [
    {
     "name": "stdout",
     "output_type": "stream",
     "text": [
      "Checkpoint loaded from 'basicamt_all.pth'\n",
      "epoch: 59, loss: 3293.635726342139, min_loss: 3288.4482824845745\n"
     ]
    }
   ],
   "source": [
    "# 加载上一轮模型参数\n",
    "states = load_ckpt(model, optimizer, checkpoint_path)\n",
    "if states:\n",
    "    min_loss, avg_loss, epoch_now = states\n",
    "else:\n",
    "    print(\"No checkpoint loaded. Training from scratch.\")"
   ]
  },
  {
   "cell_type": "code",
   "execution_count": null,
   "metadata": {},
   "outputs": [
    {
     "name": "stderr",
     "output_type": "stream",
     "text": [
      "100%|██████████| 462/462 [03:55<00:00,  1.97it/s]\n",
      "100%|██████████| 40/40 [00:13<00:00,  3.03it/s]\n"
     ]
    },
    {
     "name": "stdout",
     "output_type": "stream",
     "text": [
      "====> Epoch: 6 Average train loss: 3917.3887; Average val loss: 4094.8197\n"
     ]
    },
    {
     "name": "stderr",
     "output_type": "stream",
     "text": [
      "100%|██████████| 462/462 [03:52<00:00,  1.98it/s]\n",
      "100%|██████████| 40/40 [00:12<00:00,  3.08it/s]\n"
     ]
    },
    {
     "name": "stdout",
     "output_type": "stream",
     "text": [
      "====> Epoch: 7 Average train loss: 3840.7404; Average val loss: 3879.3502\n"
     ]
    },
    {
     "name": "stderr",
     "output_type": "stream",
     "text": [
      "100%|██████████| 462/462 [03:53<00:00,  1.98it/s]\n",
      "100%|██████████| 40/40 [00:12<00:00,  3.08it/s]\n"
     ]
    },
    {
     "name": "stdout",
     "output_type": "stream",
     "text": [
      "====> Epoch: 8 Average train loss: 3777.8338; Average val loss: 4372.8685\n"
     ]
    },
    {
     "name": "stderr",
     "output_type": "stream",
     "text": [
      "100%|██████████| 462/462 [03:52<00:00,  1.98it/s]\n",
      "100%|██████████| 40/40 [00:13<00:00,  2.86it/s]\n"
     ]
    },
    {
     "name": "stdout",
     "output_type": "stream",
     "text": [
      "====> Epoch: 9 Average train loss: 3726.1609; Average val loss: 3942.4003\n"
     ]
    },
    {
     "name": "stderr",
     "output_type": "stream",
     "text": [
      "100%|██████████| 462/462 [03:52<00:00,  1.99it/s]\n",
      "100%|██████████| 40/40 [00:12<00:00,  3.10it/s]\n"
     ]
    },
    {
     "name": "stdout",
     "output_type": "stream",
     "text": [
      "====> Epoch: 10 Average train loss: 3677.3721; Average val loss: 3797.8556\n"
     ]
    },
    {
     "name": "stderr",
     "output_type": "stream",
     "text": [
      "100%|██████████| 462/462 [03:51<00:00,  1.99it/s]\n",
      "100%|██████████| 40/40 [00:12<00:00,  3.13it/s]\n"
     ]
    },
    {
     "name": "stdout",
     "output_type": "stream",
     "text": [
      "====> Epoch: 11 Average train loss: 3640.1839; Average val loss: 3870.3552\n"
     ]
    },
    {
     "name": "stderr",
     "output_type": "stream",
     "text": [
      "100%|██████████| 462/462 [03:51<00:00,  1.99it/s]\n",
      "100%|██████████| 40/40 [00:12<00:00,  3.14it/s]\n"
     ]
    },
    {
     "name": "stdout",
     "output_type": "stream",
     "text": [
      "====> Epoch: 12 Average train loss: 3604.5461; Average val loss: 3742.7561\n"
     ]
    },
    {
     "name": "stderr",
     "output_type": "stream",
     "text": [
      "100%|██████████| 462/462 [03:51<00:00,  1.99it/s]\n",
      "100%|██████████| 40/40 [00:12<00:00,  3.12it/s]\n"
     ]
    },
    {
     "name": "stdout",
     "output_type": "stream",
     "text": [
      "====> Epoch: 13 Average train loss: 3570.7518; Average val loss: 3831.2627\n"
     ]
    },
    {
     "name": "stderr",
     "output_type": "stream",
     "text": [
      "100%|██████████| 462/462 [03:51<00:00,  1.99it/s]\n",
      "100%|██████████| 40/40 [00:12<00:00,  3.15it/s]\n"
     ]
    },
    {
     "name": "stdout",
     "output_type": "stream",
     "text": [
      "====> Epoch: 14 Average train loss: 3528.7589; Average val loss: 3815.5495\n"
     ]
    },
    {
     "name": "stderr",
     "output_type": "stream",
     "text": [
      "100%|██████████| 462/462 [03:52<00:00,  1.99it/s]\n",
      "100%|██████████| 40/40 [00:12<00:00,  3.11it/s]\n"
     ]
    },
    {
     "name": "stdout",
     "output_type": "stream",
     "text": [
      "====> Epoch: 15 Average train loss: 3511.6494; Average val loss: 3646.4676\n"
     ]
    },
    {
     "name": "stderr",
     "output_type": "stream",
     "text": [
      "100%|██████████| 462/462 [03:51<00:00,  1.99it/s]\n",
      "100%|██████████| 40/40 [00:12<00:00,  3.12it/s]\n"
     ]
    },
    {
     "name": "stdout",
     "output_type": "stream",
     "text": [
      "====> Epoch: 16 Average train loss: 3483.8895; Average val loss: 3571.2679\n"
     ]
    },
    {
     "name": "stderr",
     "output_type": "stream",
     "text": [
      "100%|██████████| 462/462 [03:54<00:00,  1.97it/s]\n",
      "100%|██████████| 40/40 [00:12<00:00,  3.10it/s]\n"
     ]
    },
    {
     "name": "stdout",
     "output_type": "stream",
     "text": [
      "====> Epoch: 17 Average train loss: 3452.8283; Average val loss: 3571.4688\n"
     ]
    },
    {
     "name": "stderr",
     "output_type": "stream",
     "text": [
      "100%|██████████| 462/462 [03:52<00:00,  1.98it/s]\n",
      "100%|██████████| 40/40 [00:12<00:00,  3.13it/s]\n"
     ]
    },
    {
     "name": "stdout",
     "output_type": "stream",
     "text": [
      "====> Epoch: 18 Average train loss: 3434.5381; Average val loss: 3641.5670\n"
     ]
    },
    {
     "name": "stderr",
     "output_type": "stream",
     "text": [
      "100%|██████████| 462/462 [03:53<00:00,  1.98it/s]\n",
      "100%|██████████| 40/40 [00:14<00:00,  2.71it/s]\n"
     ]
    },
    {
     "name": "stdout",
     "output_type": "stream",
     "text": [
      "====> Epoch: 19 Average train loss: 3415.8292; Average val loss: 3564.0010\n"
     ]
    },
    {
     "name": "stderr",
     "output_type": "stream",
     "text": [
      "100%|██████████| 462/462 [03:53<00:00,  1.98it/s]\n",
      "100%|██████████| 40/40 [00:13<00:00,  3.05it/s]\n"
     ]
    },
    {
     "name": "stdout",
     "output_type": "stream",
     "text": [
      "====> Epoch: 20 Average train loss: 3390.1093; Average val loss: 3478.1205\n"
     ]
    },
    {
     "name": "stderr",
     "output_type": "stream",
     "text": [
      "100%|██████████| 462/462 [03:55<00:00,  1.96it/s]\n",
      "100%|██████████| 40/40 [00:12<00:00,  3.11it/s]\n"
     ]
    },
    {
     "name": "stdout",
     "output_type": "stream",
     "text": [
      "====> Epoch: 21 Average train loss: 3375.3524; Average val loss: 3649.9748\n"
     ]
    },
    {
     "name": "stderr",
     "output_type": "stream",
     "text": [
      "100%|██████████| 462/462 [03:51<00:00,  1.99it/s]\n",
      "100%|██████████| 40/40 [00:12<00:00,  3.14it/s]\n"
     ]
    },
    {
     "name": "stdout",
     "output_type": "stream",
     "text": [
      "====> Epoch: 22 Average train loss: 3365.8869; Average val loss: 3502.4394\n"
     ]
    },
    {
     "name": "stderr",
     "output_type": "stream",
     "text": [
      "100%|██████████| 462/462 [03:52<00:00,  1.99it/s]\n",
      "100%|██████████| 40/40 [00:12<00:00,  3.16it/s]\n"
     ]
    },
    {
     "name": "stdout",
     "output_type": "stream",
     "text": [
      "====> Epoch: 23 Average train loss: 3332.0000; Average val loss: 3652.2610\n"
     ]
    },
    {
     "name": "stderr",
     "output_type": "stream",
     "text": [
      "100%|██████████| 462/462 [03:50<00:00,  2.00it/s]\n",
      "100%|██████████| 40/40 [00:12<00:00,  3.16it/s]\n"
     ]
    },
    {
     "name": "stdout",
     "output_type": "stream",
     "text": [
      "====> Epoch: 24 Average train loss: 3257.4483; Average val loss: 3383.8471\n"
     ]
    },
    {
     "name": "stderr",
     "output_type": "stream",
     "text": [
      "100%|██████████| 462/462 [03:50<00:00,  2.00it/s]\n",
      "100%|██████████| 40/40 [00:12<00:00,  3.12it/s]\n"
     ]
    },
    {
     "name": "stdout",
     "output_type": "stream",
     "text": [
      "====> Epoch: 25 Average train loss: 3248.2800; Average val loss: 3392.9531\n"
     ]
    },
    {
     "name": "stderr",
     "output_type": "stream",
     "text": [
      "100%|██████████| 462/462 [03:49<00:00,  2.01it/s]\n",
      "100%|██████████| 40/40 [00:12<00:00,  3.17it/s]\n"
     ]
    },
    {
     "name": "stdout",
     "output_type": "stream",
     "text": [
      "====> Epoch: 26 Average train loss: 3238.9913; Average val loss: 3383.0918\n"
     ]
    },
    {
     "name": "stderr",
     "output_type": "stream",
     "text": [
      "100%|██████████| 462/462 [03:50<00:00,  2.01it/s]\n",
      "100%|██████████| 40/40 [00:12<00:00,  3.12it/s]\n"
     ]
    },
    {
     "name": "stdout",
     "output_type": "stream",
     "text": [
      "====> Epoch: 27 Average train loss: 3233.0969; Average val loss: 3358.0371\n"
     ]
    },
    {
     "name": "stderr",
     "output_type": "stream",
     "text": [
      "100%|██████████| 462/462 [03:50<00:00,  2.01it/s]\n",
      "100%|██████████| 40/40 [00:12<00:00,  3.17it/s]\n"
     ]
    },
    {
     "name": "stdout",
     "output_type": "stream",
     "text": [
      "====> Epoch: 28 Average train loss: 3230.4106; Average val loss: 3356.1239\n"
     ]
    },
    {
     "name": "stderr",
     "output_type": "stream",
     "text": [
      "100%|██████████| 462/462 [03:50<00:00,  2.01it/s]\n",
      "100%|██████████| 40/40 [00:12<00:00,  3.16it/s]\n"
     ]
    },
    {
     "name": "stdout",
     "output_type": "stream",
     "text": [
      "====> Epoch: 29 Average train loss: 3226.1052; Average val loss: 3361.0382\n"
     ]
    },
    {
     "name": "stderr",
     "output_type": "stream",
     "text": [
      "100%|██████████| 462/462 [03:50<00:00,  2.01it/s]\n",
      "100%|██████████| 40/40 [00:12<00:00,  3.14it/s]\n"
     ]
    },
    {
     "name": "stdout",
     "output_type": "stream",
     "text": [
      "====> Epoch: 30 Average train loss: 3216.2143; Average val loss: 3366.6825\n"
     ]
    },
    {
     "name": "stderr",
     "output_type": "stream",
     "text": [
      "100%|██████████| 462/462 [03:50<00:00,  2.00it/s]\n",
      "100%|██████████| 40/40 [00:12<00:00,  3.17it/s]\n"
     ]
    },
    {
     "name": "stdout",
     "output_type": "stream",
     "text": [
      "====> Epoch: 31 Average train loss: 3189.3209; Average val loss: 3329.7009\n"
     ]
    },
    {
     "name": "stderr",
     "output_type": "stream",
     "text": [
      "100%|██████████| 462/462 [03:50<00:00,  2.01it/s]\n",
      "100%|██████████| 40/40 [00:12<00:00,  3.14it/s]\n"
     ]
    },
    {
     "name": "stdout",
     "output_type": "stream",
     "text": [
      "====> Epoch: 32 Average train loss: 3187.1189; Average val loss: 3326.1911\n"
     ]
    },
    {
     "name": "stderr",
     "output_type": "stream",
     "text": [
      "100%|██████████| 462/462 [03:52<00:00,  1.99it/s]\n",
      "100%|██████████| 40/40 [00:12<00:00,  3.09it/s]\n"
     ]
    },
    {
     "name": "stdout",
     "output_type": "stream",
     "text": [
      "====> Epoch: 33 Average train loss: 3182.0757; Average val loss: 3332.3439\n"
     ]
    },
    {
     "name": "stderr",
     "output_type": "stream",
     "text": [
      "100%|██████████| 462/462 [03:52<00:00,  1.99it/s]\n",
      "100%|██████████| 40/40 [00:12<00:00,  3.11it/s]\n"
     ]
    },
    {
     "name": "stdout",
     "output_type": "stream",
     "text": [
      "====> Epoch: 34 Average train loss: 3184.8336; Average val loss: 3320.2057\n"
     ]
    },
    {
     "name": "stderr",
     "output_type": "stream",
     "text": [
      "100%|██████████| 462/462 [03:52<00:00,  1.99it/s]\n",
      "100%|██████████| 40/40 [00:12<00:00,  3.08it/s]\n"
     ]
    },
    {
     "name": "stdout",
     "output_type": "stream",
     "text": [
      "====> Epoch: 35 Average train loss: 3179.3006; Average val loss: 3329.2394\n"
     ]
    },
    {
     "name": "stderr",
     "output_type": "stream",
     "text": [
      "100%|██████████| 462/462 [03:52<00:00,  1.99it/s]\n",
      "100%|██████████| 40/40 [00:13<00:00,  3.08it/s]\n"
     ]
    },
    {
     "name": "stdout",
     "output_type": "stream",
     "text": [
      "====> Epoch: 36 Average train loss: 3179.4614; Average val loss: 3322.2919\n"
     ]
    },
    {
     "name": "stderr",
     "output_type": "stream",
     "text": [
      "100%|██████████| 462/462 [03:51<00:00,  1.99it/s]\n",
      "100%|██████████| 40/40 [00:12<00:00,  3.15it/s]\n"
     ]
    },
    {
     "name": "stdout",
     "output_type": "stream",
     "text": [
      "====> Epoch: 37 Average train loss: 3175.4201; Average val loss: 3330.9786\n"
     ]
    },
    {
     "name": "stderr",
     "output_type": "stream",
     "text": [
      "100%|██████████| 462/462 [03:52<00:00,  1.99it/s]\n",
      "100%|██████████| 40/40 [00:12<00:00,  3.11it/s]\n"
     ]
    },
    {
     "name": "stdout",
     "output_type": "stream",
     "text": [
      "====> Epoch: 38 Average train loss: 3167.3255; Average val loss: 3319.2523\n"
     ]
    },
    {
     "name": "stderr",
     "output_type": "stream",
     "text": [
      "100%|██████████| 462/462 [03:51<00:00,  1.99it/s]\n",
      "100%|██████████| 40/40 [00:12<00:00,  3.13it/s]\n"
     ]
    },
    {
     "name": "stdout",
     "output_type": "stream",
     "text": [
      "====> Epoch: 39 Average train loss: 3163.7895; Average val loss: 3320.1538\n"
     ]
    },
    {
     "name": "stderr",
     "output_type": "stream",
     "text": [
      "100%|██████████| 462/462 [03:52<00:00,  1.99it/s]\n",
      "100%|██████████| 40/40 [00:12<00:00,  3.16it/s]\n"
     ]
    },
    {
     "name": "stdout",
     "output_type": "stream",
     "text": [
      "====> Epoch: 40 Average train loss: 3165.6625; Average val loss: 3318.0032\n"
     ]
    },
    {
     "name": "stderr",
     "output_type": "stream",
     "text": [
      "100%|██████████| 462/462 [03:50<00:00,  2.01it/s]\n",
      "100%|██████████| 40/40 [00:12<00:00,  3.13it/s]\n"
     ]
    },
    {
     "name": "stdout",
     "output_type": "stream",
     "text": [
      "====> Epoch: 41 Average train loss: 3163.3390; Average val loss: 3324.1279\n"
     ]
    },
    {
     "name": "stderr",
     "output_type": "stream",
     "text": [
      "100%|██████████| 462/462 [03:50<00:00,  2.01it/s]\n",
      "100%|██████████| 40/40 [00:12<00:00,  3.17it/s]\n"
     ]
    },
    {
     "name": "stdout",
     "output_type": "stream",
     "text": [
      "====> Epoch: 42 Average train loss: 3162.2287; Average val loss: 3314.9831\n"
     ]
    },
    {
     "name": "stderr",
     "output_type": "stream",
     "text": [
      "100%|██████████| 462/462 [03:50<00:00,  2.00it/s]\n",
      "100%|██████████| 40/40 [00:12<00:00,  3.15it/s]\n"
     ]
    },
    {
     "name": "stdout",
     "output_type": "stream",
     "text": [
      "====> Epoch: 43 Average train loss: 3160.0523; Average val loss: 3321.1194\n"
     ]
    },
    {
     "name": "stderr",
     "output_type": "stream",
     "text": [
      "100%|██████████| 462/462 [03:50<00:00,  2.01it/s]\n",
      "100%|██████████| 40/40 [00:12<00:00,  3.16it/s]\n"
     ]
    },
    {
     "name": "stdout",
     "output_type": "stream",
     "text": [
      "====> Epoch: 44 Average train loss: 3159.7115; Average val loss: 3315.3337\n"
     ]
    },
    {
     "name": "stderr",
     "output_type": "stream",
     "text": [
      "100%|██████████| 462/462 [03:50<00:00,  2.00it/s]\n",
      "100%|██████████| 40/40 [00:12<00:00,  3.17it/s]\n"
     ]
    },
    {
     "name": "stdout",
     "output_type": "stream",
     "text": [
      "====> Epoch: 45 Average train loss: 3160.3599; Average val loss: 3311.0521\n"
     ]
    },
    {
     "name": "stderr",
     "output_type": "stream",
     "text": [
      "100%|██████████| 462/462 [03:50<00:00,  2.01it/s]\n",
      "100%|██████████| 40/40 [00:12<00:00,  3.17it/s]\n"
     ]
    },
    {
     "name": "stdout",
     "output_type": "stream",
     "text": [
      "====> Epoch: 46 Average train loss: 3160.7147; Average val loss: 3313.9551\n"
     ]
    },
    {
     "name": "stderr",
     "output_type": "stream",
     "text": [
      "100%|██████████| 462/462 [03:50<00:00,  2.01it/s]\n",
      "100%|██████████| 40/40 [00:12<00:00,  3.16it/s]\n"
     ]
    },
    {
     "name": "stdout",
     "output_type": "stream",
     "text": [
      "====> Epoch: 47 Average train loss: 3161.1145; Average val loss: 3311.7960\n"
     ]
    },
    {
     "name": "stderr",
     "output_type": "stream",
     "text": [
      "100%|██████████| 462/462 [03:50<00:00,  2.00it/s]\n",
      "100%|██████████| 40/40 [00:12<00:00,  3.16it/s]\n"
     ]
    },
    {
     "name": "stdout",
     "output_type": "stream",
     "text": [
      "====> Epoch: 48 Average train loss: 3161.4219; Average val loss: 3322.6081\n"
     ]
    },
    {
     "name": "stderr",
     "output_type": "stream",
     "text": [
      "100%|██████████| 462/462 [03:50<00:00,  2.00it/s]\n",
      "100%|██████████| 40/40 [00:12<00:00,  3.13it/s]\n"
     ]
    },
    {
     "name": "stdout",
     "output_type": "stream",
     "text": [
      "====> Epoch: 49 Average train loss: 3159.2320; Average val loss: 3317.5423\n"
     ]
    },
    {
     "name": "stderr",
     "output_type": "stream",
     "text": [
      "100%|██████████| 462/462 [03:50<00:00,  2.00it/s]\n",
      "100%|██████████| 40/40 [00:12<00:00,  3.16it/s]\n"
     ]
    },
    {
     "name": "stdout",
     "output_type": "stream",
     "text": [
      "====> Epoch: 50 Average train loss: 3159.3829; Average val loss: 3316.3754\n"
     ]
    },
    {
     "name": "stderr",
     "output_type": "stream",
     "text": [
      "100%|██████████| 462/462 [03:50<00:00,  2.01it/s]\n",
      "100%|██████████| 40/40 [00:12<00:00,  3.17it/s]\n"
     ]
    },
    {
     "name": "stdout",
     "output_type": "stream",
     "text": [
      "====> Epoch: 51 Average train loss: 3160.3102; Average val loss: 3311.8495\n"
     ]
    },
    {
     "name": "stderr",
     "output_type": "stream",
     "text": [
      "100%|██████████| 462/462 [03:50<00:00,  2.00it/s]\n",
      "100%|██████████| 40/40 [00:12<00:00,  3.13it/s]\n"
     ]
    },
    {
     "name": "stdout",
     "output_type": "stream",
     "text": [
      "====> Epoch: 52 Average train loss: 3158.9694; Average val loss: 3314.4813\n"
     ]
    },
    {
     "name": "stderr",
     "output_type": "stream",
     "text": [
      "100%|██████████| 462/462 [03:50<00:00,  2.01it/s]\n",
      "100%|██████████| 40/40 [00:12<00:00,  3.18it/s]\n"
     ]
    },
    {
     "name": "stdout",
     "output_type": "stream",
     "text": [
      "====> Epoch: 53 Average train loss: 3155.9817; Average val loss: 3315.5394\n"
     ]
    },
    {
     "name": "stderr",
     "output_type": "stream",
     "text": [
      "100%|██████████| 462/462 [03:53<00:00,  1.98it/s]\n",
      "100%|██████████| 40/40 [00:12<00:00,  3.15it/s]\n"
     ]
    },
    {
     "name": "stdout",
     "output_type": "stream",
     "text": [
      "====> Epoch: 54 Average train loss: 3157.8092; Average val loss: 3314.1241\n"
     ]
    },
    {
     "name": "stderr",
     "output_type": "stream",
     "text": [
      "100%|██████████| 462/462 [03:52<00:00,  1.99it/s]\n",
      "100%|██████████| 40/40 [00:12<00:00,  3.10it/s]\n"
     ]
    },
    {
     "name": "stdout",
     "output_type": "stream",
     "text": [
      "====> Epoch: 55 Average train loss: 3159.3458; Average val loss: 3314.8541\n"
     ]
    },
    {
     "name": "stderr",
     "output_type": "stream",
     "text": [
      "100%|██████████| 462/462 [03:50<00:00,  2.00it/s]\n",
      "100%|██████████| 40/40 [00:12<00:00,  3.17it/s]\n"
     ]
    },
    {
     "name": "stdout",
     "output_type": "stream",
     "text": [
      "====> Epoch: 56 Average train loss: 3159.7018; Average val loss: 3315.8668\n"
     ]
    },
    {
     "name": "stderr",
     "output_type": "stream",
     "text": [
      "100%|██████████| 462/462 [03:50<00:00,  2.00it/s]\n",
      "100%|██████████| 40/40 [00:12<00:00,  3.17it/s]\n"
     ]
    },
    {
     "name": "stdout",
     "output_type": "stream",
     "text": [
      "====> Epoch: 57 Average train loss: 3157.7376; Average val loss: 3314.6191\n"
     ]
    },
    {
     "name": "stderr",
     "output_type": "stream",
     "text": [
      "100%|██████████| 462/462 [03:50<00:00,  2.00it/s]\n",
      "100%|██████████| 40/40 [00:12<00:00,  3.16it/s]\n"
     ]
    },
    {
     "name": "stdout",
     "output_type": "stream",
     "text": [
      "====> Epoch: 58 Average train loss: 3157.2773; Average val loss: 3314.2621\n"
     ]
    },
    {
     "name": "stderr",
     "output_type": "stream",
     "text": [
      "100%|██████████| 462/462 [03:49<00:00,  2.01it/s]\n",
      "100%|██████████| 40/40 [00:12<00:00,  3.14it/s]"
     ]
    },
    {
     "name": "stdout",
     "output_type": "stream",
     "text": [
      "====> Epoch: 59 Average train loss: 3156.5801; Average val loss: 3317.8220\n"
     ]
    },
    {
     "name": "stderr",
     "output_type": "stream",
     "text": [
      "\n"
     ]
    }
   ],
   "source": [
    "epoch_total = 60\n",
    "stage_save_interval = 40    # save checkpoint every $stage_save_interval$ epochs\n",
    "\n",
    "optimizer.zero_grad()\n",
    "for epoch in range(epoch_now+1, epoch_total):\n",
    "    # training\n",
    "    model.train()\n",
    "    train_loss = 0\n",
    "    virtual_batch = 0\n",
    "    for (input, target) in tqdm.tqdm(dataloader):\n",
    "        input = input.to(device)    # input: (batch, mix, 2, time)\n",
    "        target = target.to(device)  # target: (batch, mix, 7 * 12, 660)\n",
    "\n",
    "        # 由于basicamt的目标没有分离音色，因此mix仅仅是数据增强的手段\n",
    "        if dataset.mix > 1:\n",
    "            mixed = torch.mean(input, dim=1, keepdim=False)  # 混合后的CQT\n",
    "            midi_mixed, _ = target.max(dim=-3, keepdim=False)\n",
    "        else:\n",
    "            mixed = input.squeeze(dim=1)\n",
    "            midi_mixed = target.squeeze(dim=1)\n",
    "\n",
    "        mixed = mixed + torch.randn_like(mixed) * 0.007   # 加入噪声 经过听觉和可视化觉得0.007是一个合适的值\n",
    "        # midi_mixed: (batch, 7 * 12, 660)\n",
    "\n",
    "        onset, note = model(mixed)\n",
    "        # onset & note: (batch, 7 * 12, 660)\n",
    "        loss = BasicAMT.loss(onset, note, midi_mixed)\n",
    "        train_loss += loss.item()\n",
    "\n",
    "        loss.backward()\n",
    "        optimizer.step()\n",
    "        optimizer.zero_grad()\n",
    "\n",
    "    train_loss /= len(dataloader)\n",
    "\n",
    "    # validation\n",
    "    model.eval()\n",
    "    val_loss = 0\n",
    "    with torch.no_grad():\n",
    "        for (input, target) in tqdm.tqdm(valloader):\n",
    "            input = input.to(device)\n",
    "            target = target.to(device)\n",
    "\n",
    "            if val.mix > 1:\n",
    "                mixed = torch.sum(input, dim=1, keepdim=False)\n",
    "                midi_mixed, _ = target.max(dim=-3, keepdim=False)\n",
    "            else:\n",
    "                mixed = input.squeeze(dim=1)\n",
    "                midi_mixed = target.squeeze(dim=1)\n",
    "\n",
    "            onset, note = model(mixed)\n",
    "            loss = BasicAMT.loss(onset, note, midi_mixed)\n",
    "            val_loss += loss.item()\n",
    "\n",
    "        val_loss /= len(valloader)\n",
    "    \n",
    "    final_loss = val_loss * 0.85 + train_loss * 0.15\n",
    "    schedular.step(final_loss)\n",
    "\n",
    "    # save checkpoint\n",
    "    checkpoint_filename = f\"epoch{epoch}.pth\" if epoch % stage_save_interval == 0 else checkpoint_path\n",
    "    save_ckpt(epoch, model, min_loss, final_loss, optimizer, checkpoint_filename)\n",
    "    if final_loss < min_loss:\n",
    "        min_loss = final_loss\n",
    "\n",
    "    print(f\"====> Epoch: {epoch} Average train loss: {train_loss:.4f}; Average val loss: {val_loss:.4f}\")\n",
    "    with open(loss_path, 'a') as f:\n",
    "        f.write(f\"{epoch}:\\ttrain_loss: {train_loss:.4f}\\tval_loss: {val_loss:.4f}\\n\")\n",
    "    epoch_now = epoch"
   ]
  },
  {
   "cell_type": "code",
   "execution_count": null,
   "metadata": {},
   "outputs": [
    {
     "data": {
      "image/png": "[encoded data removed]",
      "text/plain": [
       "<Figure size 1000x500 with 1 Axes>"
      ]
     },
     "metadata": {},
     "output_type": "display_data"
    }
   ],
   "source": [
    "# 绘制训练和验证损失曲线\n",
    "import matplotlib.pyplot as plt\n",
    "\n",
    "epochs = []\n",
    "train_losses = []\n",
    "val_losses = []\n",
    "\n",
    "with open(loss_path, 'r') as f:\n",
    "    for line in f:\n",
    "        parts = line.strip().split('\\t')\n",
    "        epoch = int(parts[0].split(':')[0])\n",
    "        train_loss = float(parts[1].split(': ')[1])\n",
    "        val_loss = float(parts[2].split(': ')[1])\n",
    "        \n",
    "        epochs.append(epoch)\n",
    "        train_losses.append(train_loss)\n",
    "        val_losses.append(val_loss)\n",
    "\n",
    "# Plot the losses\n",
    "plt.figure(figsize=(10, 5))\n",
    "plt.plot(epochs, train_losses, label='Train Loss')\n",
    "plt.plot(epochs, val_losses, label='Validation Loss')\n",
    "plt.xlabel('Epoch')\n",
    "plt.ylabel('Loss')\n",
    "plt.title('Training and Validation Loss')\n",
    "plt.legend()\n",
    "plt.grid(True)\n",
    "plt.show()"
   ]
  },
  {
   "cell_type": "markdown",
   "metadata": {},
   "source": [
    "## 测试模型"
   ]
  },
  {
   "cell_type": "code",
   "execution_count": null,
   "metadata": {},
   "outputs": [
    {
     "name": "stdout",
     "output_type": "stream",
     "text": [
      "Checkpoint loaded from 'best_basicamt_all.pth'\n",
      "epoch: 45, loss: 3288.4482824845745, min_loss: 3291.9903567148185\n"
     ]
    }
   ],
   "source": [
    "# 加载最佳模型\n",
    "states = load_ckpt(model, optimizer, \"best_\" + checkpoint_path)\n",
    "if states:\n",
    "    min_loss, avg_loss, epoch_now = states\n",
    "else:\n",
    "    print(\"No best checkpoint loaded.\")"
   ]
  },
  {
   "cell_type": "code",
   "execution_count": null,
   "metadata": {},
   "outputs": [],
   "source": [
    "# 切换到cpu 因为benchmark会导致初次运行时间长\n",
    "device = torch.device('cpu')\n",
    "model = model.to(device)\n",
    "torch.backends.cudnn.benchmark = False"
   ]
  },
  {
   "cell_type": "code",
   "execution_count": null,
   "metadata": {},
   "outputs": [],
   "source": [
    "# 读取音频\n",
    "import torchaudio\n",
    "from utils.midiarray import midi2numpy\n",
    "from utils.wavtool import waveInfo\n",
    "import matplotlib.pyplot as plt\n",
    "import numpy as np\n",
    "\n",
    "test_wave_path = \"../data/inferMusic/piano_short.wav\"\n",
    "waveInfo(test_wave_path)\n",
    "\n",
    "waveform, sample_rate = torchaudio.load(test_wave_path, normalize=True)\n",
    "waveform = waveform.unsqueeze(0)\n",
    "print(waveform.shape)\n",
    "\n",
    "test_midi_path = test_wave_path.replace('.wav', '.mid')\n",
    "s_per_frame = 256 / 22050\n",
    "midi_array = midi2numpy(test_midi_path, s_per_frame)\n",
    "plt.figure(figsize=(12, 6))\n",
    "plt.imshow(midi_array, aspect='auto', origin='lower', cmap='gray')\n",
    "plt.colorbar()\n",
    "plt.title('MIDI Array')\n",
    "plt.xlabel('Time Frames')\n",
    "plt.ylabel('MIDI Notes')\n",
    "plt.show()\n",
    "print(midi_array.shape)"
   ]
  },
  {
   "cell_type": "code",
   "execution_count": null,
   "metadata": {},
   "outputs": [
    {
     "data": {
      "image/png": "[encoded data removed]",
      "text/plain": [
       "<Figure size 1200x1200 with 4 Axes>"
      ]
     },
     "metadata": {},
     "output_type": "display_data"
    }
   ],
   "source": [
    "model.eval()\n",
    "with torch.no_grad():\n",
    "    onset, note = model(waveform)\n",
    "    onset = onset.cpu().numpy()[0]\n",
    "    note = note.cpu().numpy()[0]\n",
    "    plt.figure(figsize=(12, 12))\n",
    "\n",
    "    plt.subplot(2, 1, 1)\n",
    "    plt.title('Note')\n",
    "    plt.imshow(note, aspect='auto', origin='lower', cmap='gray')\n",
    "    plt.colorbar()\n",
    "\n",
    "    plt.subplot(2, 1, 2)\n",
    "    plt.title('Onset')\n",
    "    plt.imshow(onset, aspect='auto', origin='lower', cmap='gray')\n",
    "    plt.colorbar()\n",
    "\n",
    "    plt.tight_layout()\n",
    "    plt.show()"
   ]
  },
  {
   "cell_type": "code",
   "execution_count": null,
   "metadata": {},
   "outputs": [],
   "source": [
    "torch.save(model, \"basicamt_model.pth\")"
   ]
  }
 ],
 "metadata": {
  "kernelspec": {
   "display_name": "amt",
   "language": "python",
   "name": "python3"
  },
  "language_info": {
   "codemirror_mode": {
    "name": "ipython",
    "version": 3
   },
   "file_extension": ".py",
   "mimetype": "text/x-python",
   "name": "python",
   "nbconvert_exporter": "python",
   "pygments_lexer": "ipython3",
   "version": "3.12.7"
  }
 },
 "nbformat": 4,
 "nbformat_minor": 2
}
