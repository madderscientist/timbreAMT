{
 "cells": [
  {
   "cell_type": "markdown",
   "metadata": {},
   "source": [
    "# 训练不具备分离能力的网络\n",
    "basicamt.py"
   ]
  },
  {
   "cell_type": "code",
   "execution_count": null,
   "metadata": {},
   "outputs": [
    {
     "name": "stdout",
     "output_type": "stream",
     "text": [
      "cuda\n"
     ]
    }
   ],
   "source": [
    "import torch\n",
    "import os\n",
    "import tqdm\n",
    "\n",
    "import sys\n",
    "sys.path.append(\"..\")\n",
    "from utils.checkpoint import save_ckpt_template as save_ckpt, load_ckpt_template as load_ckpt\n",
    "\n",
    "if torch.cuda.is_available():\n",
    "    device = torch.device('cuda')\n",
    "    torch.backends.cudnn.benchmark = True   # 加速卷积计算\n",
    "else:\n",
    "    device = torch.device('cpu')\n",
    "\n",
    "print(device)"
   ]
  },
  {
   "cell_type": "code",
   "execution_count": null,
   "metadata": {},
   "outputs": [
    {
     "name": "stdout",
     "output_type": "stream",
     "text": [
      "训练集大小:  1800\n",
      "输入大小:  torch.Size([1, 2, 288, 360])\n",
      "输出大小:  torch.Size([1, 84, 360])\n",
      "测试集大小:  180\n",
      "输入大小:  torch.Size([1, 2, 288, 360])\n",
      "输出大小:  torch.Size([1, 84, 360])\n"
     ]
    }
   ],
   "source": [
    "from data.data import Instruments\n",
    "dataset = Instruments(\n",
    "    folder = '../data/piano_large_short_256',\n",
    "    mix = 1,\n",
    "    input = '.cqt.npy',\n",
    "    output = '.npy'\n",
    ")\n",
    "print(\"训练集大小: \", len(dataset))\n",
    "input, label = dataset[0]\n",
    "print(\"输入大小: \", input.shape)\n",
    "print(\"输出大小: \", label.shape)\n",
    "# 如果开了benchmark，batchsize最好一样大，且是两个数据集大小的公因数\n",
    "dataloader = torch.utils.data.DataLoader(dataset, batch_size=18, shuffle=True, pin_memory=True, num_workers=4)\n",
    "\n",
    "val = Instruments(\n",
    "    folder = '../data/piano_medium_short_256',\n",
    "    mix = 1,\n",
    "    input = '.cqt.npy',\n",
    "    output = '.npy'\n",
    ")\n",
    "print(\"测试集大小: \", len(val))\n",
    "input, label = val[0]\n",
    "print(\"输入大小: \", input.shape)\n",
    "print(\"输出大小: \", label.shape)\n",
    "valloader = torch.utils.data.DataLoader(val, batch_size=18, shuffle=False, pin_memory=True, num_workers=4)"
   ]
  },
  {
   "cell_type": "code",
   "execution_count": 3,
   "metadata": {},
   "outputs": [],
   "source": [
    "from basicamt import BasicAMT\n",
    "model = BasicAMT().to(device)\n",
    "optimizer = torch.optim.AdamW(model.parameters(), lr=3e-4)\n",
    "schedular = torch.optim.lr_scheduler.ReduceLROnPlateau(optimizer, mode='min', factor=0.32, patience=2, threshold=1e-3)\n",
    "checkpoint_path = \"basicamt.pth\"\n",
    "loss_path = \"basicamt.loss.txt\"\n",
    "min_loss = float('inf')\n",
    "epoch_now = 0"
   ]
  },
  {
   "cell_type": "code",
   "execution_count": 4,
   "metadata": {},
   "outputs": [
    {
     "name": "stdout",
     "output_type": "stream",
     "text": [
      "Checkpoint file 'basicamt.pth' does not exist.\n",
      "No checkpoint loaded. Training from scratch.\n"
     ]
    }
   ],
   "source": [
    "# 加载上一轮模型参数\n",
    "states = load_ckpt(model, optimizer, checkpoint_path)\n",
    "if states:\n",
    "    min_loss, avg_loss, epoch_now = states\n",
    "else:\n",
    "    print(\"No checkpoint loaded. Training from scratch.\")"
   ]
  },
  {
   "cell_type": "code",
   "execution_count": 5,
   "metadata": {},
   "outputs": [
    {
     "name": "stderr",
     "output_type": "stream",
     "text": [
      "100%|██████████| 100/100 [00:21<00:00,  4.62it/s]\n",
      "100%|██████████| 10/10 [00:02<00:00,  4.04it/s]\n"
     ]
    },
    {
     "name": "stdout",
     "output_type": "stream",
     "text": [
      "====> Epoch: 1 Average train loss: 37571.8209; Average val loss: 5898.5370\n"
     ]
    },
    {
     "name": "stderr",
     "output_type": "stream",
     "text": [
      "100%|██████████| 100/100 [00:17<00:00,  5.67it/s]\n",
      "100%|██████████| 10/10 [00:02<00:00,  4.34it/s]\n"
     ]
    },
    {
     "name": "stdout",
     "output_type": "stream",
     "text": [
      "====> Epoch: 2 Average train loss: 4275.9703; Average val loss: 3374.9979\n"
     ]
    },
    {
     "name": "stderr",
     "output_type": "stream",
     "text": [
      "100%|██████████| 100/100 [00:17<00:00,  5.73it/s]\n",
      "100%|██████████| 10/10 [00:02<00:00,  4.27it/s]\n"
     ]
    },
    {
     "name": "stdout",
     "output_type": "stream",
     "text": [
      "====> Epoch: 3 Average train loss: 2883.2170; Average val loss: 2540.7081\n"
     ]
    },
    {
     "name": "stderr",
     "output_type": "stream",
     "text": [
      "100%|██████████| 100/100 [00:17<00:00,  5.58it/s]\n",
      "100%|██████████| 10/10 [00:02<00:00,  4.13it/s]\n"
     ]
    },
    {
     "name": "stdout",
     "output_type": "stream",
     "text": [
      "====> Epoch: 4 Average train loss: 2328.1655; Average val loss: 2127.5387\n"
     ]
    },
    {
     "name": "stderr",
     "output_type": "stream",
     "text": [
      "100%|██████████| 100/100 [00:17<00:00,  5.65it/s]\n",
      "100%|██████████| 10/10 [00:02<00:00,  4.22it/s]\n"
     ]
    },
    {
     "name": "stdout",
     "output_type": "stream",
     "text": [
      "====> Epoch: 5 Average train loss: 2024.2914; Average val loss: 1889.4146\n"
     ]
    },
    {
     "name": "stderr",
     "output_type": "stream",
     "text": [
      "100%|██████████| 100/100 [00:17<00:00,  5.62it/s]\n",
      "100%|██████████| 10/10 [00:02<00:00,  4.23it/s]\n"
     ]
    },
    {
     "name": "stdout",
     "output_type": "stream",
     "text": [
      "====> Epoch: 6 Average train loss: 1822.0892; Average val loss: 1723.7312\n"
     ]
    },
    {
     "name": "stderr",
     "output_type": "stream",
     "text": [
      "100%|██████████| 100/100 [00:17<00:00,  5.60it/s]\n",
      "100%|██████████| 10/10 [00:02<00:00,  4.09it/s]\n"
     ]
    },
    {
     "name": "stdout",
     "output_type": "stream",
     "text": [
      "====> Epoch: 7 Average train loss: 1676.3225; Average val loss: 1626.2163\n"
     ]
    },
    {
     "name": "stderr",
     "output_type": "stream",
     "text": [
      "100%|██████████| 100/100 [00:17<00:00,  5.58it/s]\n",
      "100%|██████████| 10/10 [00:02<00:00,  4.28it/s]\n"
     ]
    },
    {
     "name": "stdout",
     "output_type": "stream",
     "text": [
      "====> Epoch: 8 Average train loss: 1571.2009; Average val loss: 1538.8824\n"
     ]
    },
    {
     "name": "stderr",
     "output_type": "stream",
     "text": [
      "100%|██████████| 100/100 [00:17<00:00,  5.62it/s]\n",
      "100%|██████████| 10/10 [00:02<00:00,  4.23it/s]\n"
     ]
    },
    {
     "name": "stdout",
     "output_type": "stream",
     "text": [
      "====> Epoch: 9 Average train loss: 1476.0964; Average val loss: 1448.7311\n"
     ]
    },
    {
     "name": "stderr",
     "output_type": "stream",
     "text": [
      "100%|██████████| 100/100 [00:17<00:00,  5.67it/s]\n",
      "100%|██████████| 10/10 [00:02<00:00,  4.25it/s]\n"
     ]
    },
    {
     "name": "stdout",
     "output_type": "stream",
     "text": [
      "====> Epoch: 10 Average train loss: 1395.8326; Average val loss: 1387.8444\n"
     ]
    },
    {
     "name": "stderr",
     "output_type": "stream",
     "text": [
      "100%|██████████| 100/100 [00:17<00:00,  5.61it/s]\n",
      "100%|██████████| 10/10 [00:02<00:00,  4.25it/s]\n"
     ]
    },
    {
     "name": "stdout",
     "output_type": "stream",
     "text": [
      "====> Epoch: 11 Average train loss: 1333.5904; Average val loss: 1342.7423\n"
     ]
    },
    {
     "name": "stderr",
     "output_type": "stream",
     "text": [
      "100%|██████████| 100/100 [00:17<00:00,  5.60it/s]\n",
      "100%|██████████| 10/10 [00:02<00:00,  4.14it/s]\n"
     ]
    },
    {
     "name": "stdout",
     "output_type": "stream",
     "text": [
      "====> Epoch: 12 Average train loss: 1291.0379; Average val loss: 1309.9380\n"
     ]
    },
    {
     "name": "stderr",
     "output_type": "stream",
     "text": [
      "100%|██████████| 100/100 [00:17<00:00,  5.63it/s]\n",
      "100%|██████████| 10/10 [00:02<00:00,  4.13it/s]\n"
     ]
    },
    {
     "name": "stdout",
     "output_type": "stream",
     "text": [
      "====> Epoch: 13 Average train loss: 1247.9798; Average val loss: 1325.6986\n"
     ]
    },
    {
     "name": "stderr",
     "output_type": "stream",
     "text": [
      "100%|██████████| 100/100 [00:17<00:00,  5.58it/s]\n",
      "100%|██████████| 10/10 [00:02<00:00,  4.07it/s]\n"
     ]
    },
    {
     "name": "stdout",
     "output_type": "stream",
     "text": [
      "====> Epoch: 14 Average train loss: 1199.8923; Average val loss: 1247.8419\n"
     ]
    },
    {
     "name": "stderr",
     "output_type": "stream",
     "text": [
      "100%|██████████| 100/100 [00:17<00:00,  5.64it/s]\n",
      "100%|██████████| 10/10 [00:02<00:00,  4.28it/s]\n"
     ]
    },
    {
     "name": "stdout",
     "output_type": "stream",
     "text": [
      "====> Epoch: 15 Average train loss: 1164.9352; Average val loss: 1218.2464\n"
     ]
    },
    {
     "name": "stderr",
     "output_type": "stream",
     "text": [
      "100%|██████████| 100/100 [00:17<00:00,  5.56it/s]\n",
      "100%|██████████| 10/10 [00:02<00:00,  4.18it/s]\n"
     ]
    },
    {
     "name": "stdout",
     "output_type": "stream",
     "text": [
      "====> Epoch: 16 Average train loss: 1130.6551; Average val loss: 1157.0084\n"
     ]
    },
    {
     "name": "stderr",
     "output_type": "stream",
     "text": [
      "100%|██████████| 100/100 [00:17<00:00,  5.61it/s]\n",
      "100%|██████████| 10/10 [00:02<00:00,  4.24it/s]\n"
     ]
    },
    {
     "name": "stdout",
     "output_type": "stream",
     "text": [
      "====> Epoch: 17 Average train loss: 1097.9628; Average val loss: 1243.8314\n"
     ]
    },
    {
     "name": "stderr",
     "output_type": "stream",
     "text": [
      "100%|██████████| 100/100 [00:17<00:00,  5.64it/s]\n",
      "100%|██████████| 10/10 [00:02<00:00,  4.26it/s]\n"
     ]
    },
    {
     "name": "stdout",
     "output_type": "stream",
     "text": [
      "====> Epoch: 18 Average train loss: 1069.4863; Average val loss: 1338.4027\n"
     ]
    },
    {
     "name": "stderr",
     "output_type": "stream",
     "text": [
      "100%|██████████| 100/100 [00:17<00:00,  5.60it/s]\n",
      "100%|██████████| 10/10 [00:02<00:00,  4.20it/s]\n"
     ]
    },
    {
     "name": "stdout",
     "output_type": "stream",
     "text": [
      "====> Epoch: 19 Average train loss: 1042.8633; Average val loss: 1118.9887\n"
     ]
    },
    {
     "name": "stderr",
     "output_type": "stream",
     "text": [
      "100%|██████████| 100/100 [00:17<00:00,  5.62it/s]\n",
      "100%|██████████| 10/10 [00:02<00:00,  4.27it/s]\n"
     ]
    },
    {
     "name": "stdout",
     "output_type": "stream",
     "text": [
      "====> Epoch: 20 Average train loss: 1027.9052; Average val loss: 1063.7016\n"
     ]
    },
    {
     "name": "stderr",
     "output_type": "stream",
     "text": [
      "100%|██████████| 100/100 [00:17<00:00,  5.68it/s]\n",
      "100%|██████████| 10/10 [00:02<00:00,  4.33it/s]\n"
     ]
    },
    {
     "name": "stdout",
     "output_type": "stream",
     "text": [
      "====> Epoch: 21 Average train loss: 997.9468; Average val loss: 1053.4994\n"
     ]
    },
    {
     "name": "stderr",
     "output_type": "stream",
     "text": [
      "100%|██████████| 100/100 [00:17<00:00,  5.67it/s]\n",
      "100%|██████████| 10/10 [00:02<00:00,  4.30it/s]\n"
     ]
    },
    {
     "name": "stdout",
     "output_type": "stream",
     "text": [
      "====> Epoch: 22 Average train loss: 978.3630; Average val loss: 1038.8322\n"
     ]
    },
    {
     "name": "stderr",
     "output_type": "stream",
     "text": [
      "100%|██████████| 100/100 [00:17<00:00,  5.65it/s]\n",
      "100%|██████████| 10/10 [00:02<00:00,  4.30it/s]\n"
     ]
    },
    {
     "name": "stdout",
     "output_type": "stream",
     "text": [
      "====> Epoch: 23 Average train loss: 964.9308; Average val loss: 1056.5837\n"
     ]
    },
    {
     "name": "stderr",
     "output_type": "stream",
     "text": [
      "100%|██████████| 100/100 [00:17<00:00,  5.67it/s]\n",
      "100%|██████████| 10/10 [00:02<00:00,  4.30it/s]\n"
     ]
    },
    {
     "name": "stdout",
     "output_type": "stream",
     "text": [
      "====> Epoch: 24 Average train loss: 942.5306; Average val loss: 1031.2365\n"
     ]
    },
    {
     "name": "stderr",
     "output_type": "stream",
     "text": [
      "100%|██████████| 100/100 [00:17<00:00,  5.66it/s]\n",
      "100%|██████████| 10/10 [00:02<00:00,  4.29it/s]\n"
     ]
    },
    {
     "name": "stdout",
     "output_type": "stream",
     "text": [
      "====> Epoch: 25 Average train loss: 929.7964; Average val loss: 1004.5200\n"
     ]
    },
    {
     "name": "stderr",
     "output_type": "stream",
     "text": [
      "100%|██████████| 100/100 [00:17<00:00,  5.66it/s]\n",
      "100%|██████████| 10/10 [00:02<00:00,  4.26it/s]\n"
     ]
    },
    {
     "name": "stdout",
     "output_type": "stream",
     "text": [
      "====> Epoch: 26 Average train loss: 906.4448; Average val loss: 979.2188\n"
     ]
    },
    {
     "name": "stderr",
     "output_type": "stream",
     "text": [
      "100%|██████████| 100/100 [00:17<00:00,  5.69it/s]\n",
      "100%|██████████| 10/10 [00:02<00:00,  4.27it/s]\n"
     ]
    },
    {
     "name": "stdout",
     "output_type": "stream",
     "text": [
      "====> Epoch: 27 Average train loss: 898.9311; Average val loss: 1017.5055\n"
     ]
    },
    {
     "name": "stderr",
     "output_type": "stream",
     "text": [
      "100%|██████████| 100/100 [00:17<00:00,  5.65it/s]\n",
      "100%|██████████| 10/10 [00:02<00:00,  4.31it/s]\n"
     ]
    },
    {
     "name": "stdout",
     "output_type": "stream",
     "text": [
      "====> Epoch: 28 Average train loss: 879.1635; Average val loss: 964.2109\n"
     ]
    },
    {
     "name": "stderr",
     "output_type": "stream",
     "text": [
      "100%|██████████| 100/100 [00:17<00:00,  5.68it/s]\n",
      "100%|██████████| 10/10 [00:02<00:00,  4.26it/s]\n"
     ]
    },
    {
     "name": "stdout",
     "output_type": "stream",
     "text": [
      "====> Epoch: 29 Average train loss: 867.3573; Average val loss: 1030.8999\n"
     ]
    },
    {
     "name": "stderr",
     "output_type": "stream",
     "text": [
      "100%|██████████| 100/100 [00:17<00:00,  5.68it/s]\n",
      "100%|██████████| 10/10 [00:02<00:00,  4.11it/s]\n"
     ]
    },
    {
     "name": "stdout",
     "output_type": "stream",
     "text": [
      "====> Epoch: 30 Average train loss: 857.2740; Average val loss: 959.5443\n"
     ]
    },
    {
     "name": "stderr",
     "output_type": "stream",
     "text": [
      "100%|██████████| 100/100 [00:18<00:00,  5.53it/s]\n",
      "100%|██████████| 10/10 [00:02<00:00,  4.20it/s]\n"
     ]
    },
    {
     "name": "stdout",
     "output_type": "stream",
     "text": [
      "====> Epoch: 31 Average train loss: 849.1095; Average val loss: 913.8979\n"
     ]
    },
    {
     "name": "stderr",
     "output_type": "stream",
     "text": [
      "100%|██████████| 100/100 [00:17<00:00,  5.65it/s]\n",
      "100%|██████████| 10/10 [00:02<00:00,  4.29it/s]\n"
     ]
    },
    {
     "name": "stdout",
     "output_type": "stream",
     "text": [
      "====> Epoch: 32 Average train loss: 832.2212; Average val loss: 893.4100\n"
     ]
    },
    {
     "name": "stderr",
     "output_type": "stream",
     "text": [
      "100%|██████████| 100/100 [00:17<00:00,  5.68it/s]\n",
      "100%|██████████| 10/10 [00:02<00:00,  4.27it/s]\n"
     ]
    },
    {
     "name": "stdout",
     "output_type": "stream",
     "text": [
      "====> Epoch: 33 Average train loss: 830.9625; Average val loss: 915.7458\n"
     ]
    },
    {
     "name": "stderr",
     "output_type": "stream",
     "text": [
      "100%|██████████| 100/100 [00:17<00:00,  5.67it/s]\n",
      "100%|██████████| 10/10 [00:02<00:00,  4.21it/s]\n"
     ]
    },
    {
     "name": "stdout",
     "output_type": "stream",
     "text": [
      "====> Epoch: 34 Average train loss: 812.7899; Average val loss: 955.8427\n"
     ]
    },
    {
     "name": "stderr",
     "output_type": "stream",
     "text": [
      "100%|██████████| 100/100 [00:17<00:00,  5.68it/s]\n",
      "100%|██████████| 10/10 [00:02<00:00,  4.28it/s]\n"
     ]
    },
    {
     "name": "stdout",
     "output_type": "stream",
     "text": [
      "====> Epoch: 35 Average train loss: 805.5127; Average val loss: 1006.1032\n"
     ]
    },
    {
     "name": "stderr",
     "output_type": "stream",
     "text": [
      "100%|██████████| 100/100 [00:17<00:00,  5.67it/s]\n",
      "100%|██████████| 10/10 [00:02<00:00,  4.30it/s]\n"
     ]
    },
    {
     "name": "stdout",
     "output_type": "stream",
     "text": [
      "====> Epoch: 36 Average train loss: 771.4409; Average val loss: 889.3900\n"
     ]
    },
    {
     "name": "stderr",
     "output_type": "stream",
     "text": [
      "100%|██████████| 100/100 [00:17<00:00,  5.66it/s]\n",
      "100%|██████████| 10/10 [00:02<00:00,  4.17it/s]\n"
     ]
    },
    {
     "name": "stdout",
     "output_type": "stream",
     "text": [
      "====> Epoch: 37 Average train loss: 766.8863; Average val loss: 861.9324\n"
     ]
    },
    {
     "name": "stderr",
     "output_type": "stream",
     "text": [
      "100%|██████████| 100/100 [00:17<00:00,  5.63it/s]\n",
      "100%|██████████| 10/10 [00:02<00:00,  4.24it/s]\n"
     ]
    },
    {
     "name": "stdout",
     "output_type": "stream",
     "text": [
      "====> Epoch: 38 Average train loss: 763.9378; Average val loss: 865.0185\n"
     ]
    },
    {
     "name": "stderr",
     "output_type": "stream",
     "text": [
      "100%|██████████| 100/100 [00:17<00:00,  5.67it/s]\n",
      "100%|██████████| 10/10 [00:02<00:00,  4.22it/s]\n"
     ]
    },
    {
     "name": "stdout",
     "output_type": "stream",
     "text": [
      "====> Epoch: 39 Average train loss: 757.2081; Average val loss: 871.6290\n"
     ]
    },
    {
     "name": "stderr",
     "output_type": "stream",
     "text": [
      "100%|██████████| 100/100 [00:17<00:00,  5.67it/s]\n",
      "100%|██████████| 10/10 [00:02<00:00,  4.29it/s]\n"
     ]
    },
    {
     "name": "stdout",
     "output_type": "stream",
     "text": [
      "====> Epoch: 40 Average train loss: 758.7033; Average val loss: 853.5244\n"
     ]
    },
    {
     "name": "stderr",
     "output_type": "stream",
     "text": [
      "100%|██████████| 100/100 [00:17<00:00,  5.67it/s]\n",
      "100%|██████████| 10/10 [00:02<00:00,  4.16it/s]\n"
     ]
    },
    {
     "name": "stdout",
     "output_type": "stream",
     "text": [
      "====> Epoch: 41 Average train loss: 752.8899; Average val loss: 847.7808\n"
     ]
    },
    {
     "name": "stderr",
     "output_type": "stream",
     "text": [
      "100%|██████████| 100/100 [00:17<00:00,  5.62it/s]\n",
      "100%|██████████| 10/10 [00:02<00:00,  4.19it/s]\n"
     ]
    },
    {
     "name": "stdout",
     "output_type": "stream",
     "text": [
      "====> Epoch: 42 Average train loss: 752.7815; Average val loss: 839.3998\n"
     ]
    },
    {
     "name": "stderr",
     "output_type": "stream",
     "text": [
      "100%|██████████| 100/100 [00:17<00:00,  5.63it/s]\n",
      "100%|██████████| 10/10 [00:02<00:00,  4.20it/s]\n"
     ]
    },
    {
     "name": "stdout",
     "output_type": "stream",
     "text": [
      "====> Epoch: 43 Average train loss: 748.0009; Average val loss: 864.4179\n"
     ]
    },
    {
     "name": "stderr",
     "output_type": "stream",
     "text": [
      "100%|██████████| 100/100 [00:17<00:00,  5.67it/s]\n",
      "100%|██████████| 10/10 [00:02<00:00,  4.26it/s]\n"
     ]
    },
    {
     "name": "stdout",
     "output_type": "stream",
     "text": [
      "====> Epoch: 44 Average train loss: 742.1776; Average val loss: 832.7989\n"
     ]
    },
    {
     "name": "stderr",
     "output_type": "stream",
     "text": [
      "100%|██████████| 100/100 [00:17<00:00,  5.67it/s]\n",
      "100%|██████████| 10/10 [00:02<00:00,  4.28it/s]\n"
     ]
    },
    {
     "name": "stdout",
     "output_type": "stream",
     "text": [
      "====> Epoch: 45 Average train loss: 740.5789; Average val loss: 864.3498\n"
     ]
    },
    {
     "name": "stderr",
     "output_type": "stream",
     "text": [
      "100%|██████████| 100/100 [00:17<00:00,  5.67it/s]\n",
      "100%|██████████| 10/10 [00:02<00:00,  4.17it/s]\n"
     ]
    },
    {
     "name": "stdout",
     "output_type": "stream",
     "text": [
      "====> Epoch: 46 Average train loss: 737.8423; Average val loss: 810.5857\n"
     ]
    },
    {
     "name": "stderr",
     "output_type": "stream",
     "text": [
      "100%|██████████| 100/100 [00:17<00:00,  5.63it/s]\n",
      "100%|██████████| 10/10 [00:02<00:00,  4.21it/s]\n"
     ]
    },
    {
     "name": "stdout",
     "output_type": "stream",
     "text": [
      "====> Epoch: 47 Average train loss: 733.3157; Average val loss: 827.6967\n"
     ]
    },
    {
     "name": "stderr",
     "output_type": "stream",
     "text": [
      "100%|██████████| 100/100 [00:17<00:00,  5.61it/s]\n",
      "100%|██████████| 10/10 [00:02<00:00,  4.25it/s]\n"
     ]
    },
    {
     "name": "stdout",
     "output_type": "stream",
     "text": [
      "====> Epoch: 48 Average train loss: 730.7680; Average val loss: 867.6626\n"
     ]
    },
    {
     "name": "stderr",
     "output_type": "stream",
     "text": [
      "100%|██████████| 100/100 [00:17<00:00,  5.62it/s]\n",
      "100%|██████████| 10/10 [00:02<00:00,  3.90it/s]"
     ]
    },
    {
     "name": "stdout",
     "output_type": "stream",
     "text": [
      "====> Epoch: 49 Average train loss: 727.9900; Average val loss: 844.8492\n"
     ]
    },
    {
     "name": "stderr",
     "output_type": "stream",
     "text": [
      "\n"
     ]
    }
   ],
   "source": [
    "epoch_total = 50\n",
    "stage_save_interval = 45    # save checkpoint every $stage_save_interval$ epochs\n",
    "\n",
    "optimizer.zero_grad()\n",
    "for epoch in range(epoch_now+1, epoch_total):\n",
    "    # training\n",
    "    model.train()\n",
    "    train_loss = 0\n",
    "    virtual_batch = 0\n",
    "    for (input, target) in tqdm.tqdm(dataloader):\n",
    "        input = input.to(device)    # input: (batch, mix, 2, time)\n",
    "        target = target.to(device)  # target: (batch, mix, 7 * 12, 660)\n",
    "\n",
    "        # 由于basicamt的目标没有分离音色，因此mix仅仅是数据增强的手段\n",
    "        if dataset.mix > 1:\n",
    "            mixed = torch.mean(input, dim=1, keepdim=False)  # 混合后的CQT\n",
    "            midi_mixed, _ = target.max(dim=-3, keepdim=False)\n",
    "        else:\n",
    "            mixed = input.squeeze(dim=1)\n",
    "            midi_mixed = target.squeeze(dim=1)\n",
    "\n",
    "        mixed = mixed + torch.randn_like(mixed) * 0.01   # 加入噪声 经过听觉和可视化觉得0.01是一个合适的值\n",
    "        # midi_mixed: (batch, 7 * 12, 660)\n",
    "\n",
    "        onset, note = model(mixed)\n",
    "        # onset & note: (batch, 7 * 12, 660)\n",
    "        loss = BasicAMT.loss(onset, note, midi_mixed)\n",
    "        train_loss += loss.item()\n",
    "\n",
    "        loss.backward()\n",
    "        optimizer.step()\n",
    "        optimizer.zero_grad()\n",
    "\n",
    "    train_loss /= len(dataloader)\n",
    "\n",
    "    # validation\n",
    "    model.eval()\n",
    "    val_loss = 0\n",
    "    with torch.no_grad():\n",
    "        for (input, target) in tqdm.tqdm(valloader):\n",
    "            input = input.to(device)\n",
    "            target = target.to(device)\n",
    "\n",
    "            if val.mix > 1:\n",
    "                mixed = torch.sum(input, dim=1, keepdim=False)\n",
    "                midi_mixed, _ = target.max(dim=-3, keepdim=False)\n",
    "            else:\n",
    "                mixed = input.squeeze(dim=1)\n",
    "                midi_mixed = target.squeeze(dim=1)\n",
    "\n",
    "            onset, note = model(mixed)\n",
    "            loss = BasicAMT.loss(onset, note, midi_mixed)\n",
    "            val_loss += loss.item()\n",
    "\n",
    "        val_loss /= len(valloader)\n",
    "    \n",
    "    final_loss = val_loss * 0.85 + train_loss * 0.15\n",
    "    schedular.step(final_loss)\n",
    "\n",
    "    # save checkpoint\n",
    "    checkpoint_filename = f\"epoch{epoch}.pth\" if epoch % stage_save_interval == 0 else checkpoint_path\n",
    "    save_ckpt(epoch, model, min_loss, final_loss, optimizer, checkpoint_filename)\n",
    "    if final_loss < min_loss:\n",
    "        min_loss = final_loss\n",
    "\n",
    "    print(f\"====> Epoch: {epoch} Average train loss: {train_loss:.4f}; Average val loss: {val_loss:.4f}\")\n",
    "    with open(loss_path, 'a') as f:\n",
    "        f.write(f\"{epoch}:\\ttrain_loss: {train_loss:.4f}\\tval_loss: {val_loss:.4f}\\n\")\n",
    "    epoch_now = epoch"
   ]
  },
  {
   "cell_type": "code",
   "execution_count": 6,
   "metadata": {},
   "outputs": [
    {
     "data": {
      "image/png": "[encoded data removed]",
      "text/plain": [
       "<Figure size 1000x500 with 1 Axes>"
      ]
     },
     "metadata": {},
     "output_type": "display_data"
    }
   ],
   "source": [
    "# 绘制训练和验证损失曲线\n",
    "import matplotlib.pyplot as plt\n",
    "\n",
    "epochs = []\n",
    "train_losses = []\n",
    "val_losses = []\n",
    "\n",
    "with open(loss_path, 'r') as f:\n",
    "    for line in f:\n",
    "        parts = line.strip().split('\\t')\n",
    "        epoch = int(parts[0].split(':')[0])\n",
    "        train_loss = float(parts[1].split(': ')[1])\n",
    "        val_loss = float(parts[2].split(': ')[1])\n",
    "        \n",
    "        epochs.append(epoch)\n",
    "        train_losses.append(train_loss)\n",
    "        val_losses.append(val_loss)\n",
    "\n",
    "# Plot the losses\n",
    "plt.figure(figsize=(10, 5))\n",
    "plt.plot(epochs, train_losses, label='Train Loss')\n",
    "plt.plot(epochs, val_losses, label='Validation Loss')\n",
    "plt.xlabel('Epoch')\n",
    "plt.ylabel('Loss')\n",
    "plt.title('Training and Validation Loss')\n",
    "plt.legend()\n",
    "plt.grid(True)\n",
    "plt.show()"
   ]
  },
  {
   "cell_type": "code",
   "execution_count": null,
   "metadata": {},
   "outputs": [],
   "source": [
    "# 用半精度加速 会出现nan 不要用\n",
    "from torch.amp import GradScaler, autocast\n",
    "scaler = GradScaler()\t# 实例化对象\n",
    "\n",
    "epoch_total = 100\n",
    "stage_save_interval = 10    # save checkpoint every $stage_save_interval$ epochs\n",
    "virtual_batch_size = 1      # 梯度累积 缓解显存瓶颈\n",
    "\n",
    "optimizer.zero_grad()\n",
    "for epoch in range(epoch_now+1, epoch_total):\n",
    "    # training\n",
    "    model.train()\n",
    "    train_loss = 0\n",
    "    virtual_batch = 0\n",
    "    for (input, target) in tqdm.tqdm(dataloader):\n",
    "        input = input.to(device)\n",
    "        # input: (batch, mix, 2, 8 * 36, 660)\n",
    "        target = target.to(device)\n",
    "        # target: (batch, mix, 7 * 12, 660)\n",
    "\n",
    "        # 由于basicamt的目标没有分离音色，因此mix仅仅是数据增强的手段\n",
    "        # 混合CQT并加噪\n",
    "        mixed = torch.sum(input, dim=1, keepdim=False)  # 混合后的CQT\n",
    "        mixed = mixed + torch.randn_like(mixed) * 0.008   # 加入噪声\n",
    "        # 混合midi\n",
    "        midi_mixed, _ = target.max(dim=-3, keepdim=False)\n",
    "        # midi_mixed: (batch, 7 * 12, 660)\n",
    "\n",
    "        with autocast(device_type='cuda'):\n",
    "            onset, note = model(mixed)\n",
    "            if torch.isnan(onset).any() or torch.isnan(note).any():\n",
    "                print(\"Model output is NaN. Skipping this batch.\")\n",
    "                optimizer.zero_grad()\n",
    "                continue\n",
    "            # onset: (batch, 7 * 12, 660)\n",
    "            # note: (batch, 7 * 12, 660)\n",
    "            loss = BasicAMT.loss(onset, note, midi_mixed)\n",
    "            if torch.isnan(loss):\n",
    "                print(\"Loss is NaN. Skipping this batch.\")\n",
    "                optimizer.zero_grad()\n",
    "                continue\n",
    "            train_loss += loss.item()\n",
    "            # 梯度累积\n",
    "            loss = loss / virtual_batch_size\n",
    "\n",
    "        # loss.backward()\n",
    "        scaler.scale(loss).backward()\n",
    "        virtual_batch = (virtual_batch + 1) % virtual_batch_size\n",
    "        if virtual_batch == 0:\n",
    "            # optimizer.step()\n",
    "            scaler.step(optimizer)\t# 调整lr\n",
    "            scaler.update()\t\t# 更新梯度\n",
    "            optimizer.zero_grad()\n",
    "    \n",
    "    if virtual_batch != 0:\n",
    "        # optimizer.step()\n",
    "        scaler.step(optimizer)\n",
    "        scaler.update()\n",
    "        optimizer.zero_grad()\n",
    "\n",
    "    train_loss /= len(dataloader)\n",
    "\n",
    "    # validation\n",
    "    model.eval()\n",
    "    val_loss = 0\n",
    "    with torch.no_grad():\n",
    "        for (input, target) in tqdm.tqdm(valloader):\n",
    "            input = input.to(device)\n",
    "            target = target.to(device)\n",
    "\n",
    "            mixed = torch.sum(input, dim=1, keepdim=False)\n",
    "            midi_mixed, _ = target.max(dim=-3, keepdim=False)\n",
    "\n",
    "            onset, note = model(mixed)\n",
    "            loss = BasicAMT.loss(onset, note, midi_mixed)\n",
    "\n",
    "            val_loss += loss.item()\n",
    "\n",
    "        val_loss /= len(valloader)\n",
    "        schedular.step(val_loss)\n",
    "\n",
    "    # save checkpoint\n",
    "    checkpoint_filename = f\"epoch{epoch}.pth\" if epoch % stage_save_interval == 0 else checkpoint_path\n",
    "    save_checkpoint({\n",
    "        'epoch': epoch,\n",
    "        'state_dict': model.state_dict(),\n",
    "        'min_loss': min_loss,\n",
    "        'avg_loss': val_loss,\n",
    "        'optimizer': optimizer.state_dict(),\n",
    "    }, val_loss < min_loss, filename = checkpoint_filename)\n",
    "\n",
    "    if val_loss < min_loss:\n",
    "        min_loss = val_loss\n",
    "\n",
    "    print(f\"====> Epoch: {epoch} Average train loss: {train_loss:.4f}; Average val loss: {val_loss:.4f}\")\n",
    "    with open(loss_path, 'a') as f:\n",
    "        f.write(f\"{epoch}:\\ttrain_loss: {train_loss:.4f}\\tval_loss: {val_loss:.4f}\\n\")\n",
    "    epoch_now = epoch\n"
   ]
  },
  {
   "cell_type": "markdown",
   "metadata": {},
   "source": [
    "## 测试模型"
   ]
  },
  {
   "cell_type": "code",
   "execution_count": 7,
   "metadata": {},
   "outputs": [
    {
     "name": "stdout",
     "output_type": "stream",
     "text": [
      "Checkpoint loaded from 'best_basicamt.pth'\n",
      "epoch: 46, loss: 799.6741782531737, min_loss: 819.2056848602294\n"
     ]
    }
   ],
   "source": [
    "# 加载最佳模型\n",
    "states = load_ckpt(model, optimizer, \"best_\" + checkpoint_path)\n",
    "if states:\n",
    "    min_loss, avg_loss, epoch_now = states\n",
    "else:\n",
    "    print(\"No best checkpoint loaded.\")"
   ]
  },
  {
   "cell_type": "code",
   "execution_count": 8,
   "metadata": {},
   "outputs": [],
   "source": [
    "# 切换到cpu 因为benchmark会导致初次运行时间长\n",
    "device = torch.device('cpu')\n",
    "model = model.to(device)\n",
    "torch.backends.cudnn.benchmark = False"
   ]
  },
  {
   "cell_type": "code",
   "execution_count": null,
   "metadata": {},
   "outputs": [],
   "source": [
    "# CQT配置\n",
    "import tomllib\n",
    "with open('../model/config.toml', 'br') as f:\n",
    "    CQTconfig = tomllib.load(f)['CQT']\n",
    "s_per_frame = CQTconfig['hop'] / CQTconfig['fs']\n",
    "\n",
    "from model.CQT import CQTsmall\n",
    "\n",
    "cqt = CQTsmall(\n",
    "    CQTconfig['fs'],\n",
    "    fmin=CQTconfig['fmin'],\n",
    "    octaves=CQTconfig['octaves'],\n",
    "    bins_per_octave=CQTconfig['bins_per_octave'],\n",
    "    hop=CQTconfig['hop'],\n",
    "    filter_scale=CQTconfig['filter_scale'],\n",
    "    requires_grad=False\n",
    ")\n"
   ]
  },
  {
   "cell_type": "code",
   "execution_count": null,
   "metadata": {},
   "outputs": [
    {
     "name": "stdout",
     "output_type": "stream",
     "text": [
      "Sample rate: 44100\n",
      "Channels: 2\n",
      "Sample width: 2\n",
      "Number of frames: 186112\n",
      "Duration (s): 4.220226757369614\n",
      "data num: 372224\n",
      "torch.Size([1, 2, 186112])\n",
      "torch.Size([1, 2, 288, 727])\n"
     ]
    }
   ],
   "source": [
    "# 读取音频，分析为CQT\n",
    "import torchaudio\n",
    "from utils.midiarray import numpy2midi\n",
    "from utils.wavtool import waveInfo\n",
    "import matplotlib.pyplot as plt\n",
    "import numpy as np\n",
    "\n",
    "test_wave_path = \"../data/inferMusic/piano_short.wav\"\n",
    "# test_wave_path = r'C:\\amt\\data\\septimbre\\small\\inst0\\0.wav'\n",
    "waveInfo(test_wave_path)\n",
    "\n",
    "waveform, sample_rate = torchaudio.load(test_wave_path, normalize=True)\n",
    "waveform = waveform.unsqueeze(0)\n",
    "print(waveform.shape)\n",
    "test_cqt_data = cqt(waveform).to(device)\n",
    "print(test_cqt_data.shape)"
   ]
  },
  {
   "cell_type": "code",
   "execution_count": 11,
   "metadata": {},
   "outputs": [
    {
     "data": {
      "image/png": "[encoded data removed]",
      "text/plain": [
       "<Figure size 1200x1000 with 4 Axes>"
      ]
     },
     "metadata": {},
     "output_type": "display_data"
    }
   ],
   "source": [
    "model.eval()\n",
    "with torch.no_grad():\n",
    "    onset, note = model(test_cqt_data)\n",
    "    onset = onset.cpu().numpy()[0]\n",
    "    note = note.cpu().numpy()[0]\n",
    "    plt.figure(figsize=(12, 10))\n",
    "\n",
    "    plt.subplot(2, 1, 1)\n",
    "    plt.title('Note')\n",
    "    plt.imshow(note, aspect='auto', origin='lower', cmap='gray')\n",
    "    plt.colorbar()\n",
    "\n",
    "    plt.subplot(2, 1, 2)\n",
    "    plt.title('Onset')\n",
    "    plt.imshow(onset, aspect='auto', origin='lower', cmap='gray')\n",
    "    plt.colorbar()\n",
    "\n",
    "    plt.tight_layout()\n",
    "    plt.show()\n",
    "\n",
    "    \n",
    "    "
   ]
  }
 ],
 "metadata": {
  "kernelspec": {
   "display_name": "torch",
   "language": "python",
   "name": "python3"
  },
  "language_info": {
   "codemirror_mode": {
    "name": "ipython",
    "version": 3
   },
   "file_extension": ".py",
   "mimetype": "text/x-python",
   "name": "python",
   "nbconvert_exporter": "python",
   "pygments_lexer": "ipython3",
   "version": "3.12.7"
  }
 },
 "nbformat": 4,
 "nbformat_minor": 2
}
